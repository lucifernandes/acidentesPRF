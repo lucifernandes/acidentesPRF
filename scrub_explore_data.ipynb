{
  "nbformat": 4,
  "nbformat_minor": 0,
  "metadata": {
    "colab": {
      "name": "scrub-explore-data",
      "provenance": [],
      "include_colab_link": true
    },
    "kernelspec": {
      "name": "python3",
      "display_name": "Python 3"
    }
  },
  "cells": [
    {
      "cell_type": "markdown",
      "metadata": {
        "id": "view-in-github",
        "colab_type": "text"
      },
      "source": [
        "<a href=\"https://colab.research.google.com/github/lucifernandes/acidentesPRF/blob/master/scrub_explore_data.ipynb\" target=\"_parent\"><img src=\"https://colab.research.google.com/assets/colab-badge.svg\" alt=\"Open In Colab\"/></a>"
      ]
    },
    {
      "cell_type": "markdown",
      "metadata": {
        "id": "2Xz3CqCeT834",
        "colab_type": "text"
      },
      "source": [
        "#Dados abertos sobre Acidentes da Polícia Rodoviária Federal"
      ]
    },
    {
      "cell_type": "markdown",
      "metadata": {
        "id": "D5iYnM8bDjVY",
        "colab_type": "text"
      },
      "source": [
        "Lendo as bases de dados"
      ]
    },
    {
      "cell_type": "code",
      "metadata": {
        "id": "AB_c-7GwtNEW",
        "colab_type": "code",
        "colab": {}
      },
      "source": [
        "import pandas as pd\n",
        "\n",
        "url = 'https://media.githubusercontent.com/media/lucifernandes/acidentesPRF/master/Bases'\n",
        "bases = {'Ocorrencias': {'folder': 'Agrupados%20por%20ocorrencia', \n",
        "                         'files': ['datatran2007.csv', 'datatran2008.csv', 'datatran2009.csv', 'datatran2010.csv', 'datatran2011.csv', 'datatran2012.csv', 'datatran2013.csv', 'datatran2014.csv', 'datatran2015.csv', 'datatran2016_atual.csv', 'datatran2017.csv', 'datatran2018.csv', 'datatran2019.csv', 'datatran2020.csv']}, \n",
        "         'Pessoas': {'folder': 'Agrupados%20por%20pessoa', \n",
        "                     'files': ['acidentes2007.csv', 'acidentes2008.csv', 'acidentes2009.csv', 'acidentes2010.csv', 'acidentes2011.csv', 'acidentes2012.csv', 'acidentes2013.csv', 'acidentes2014.csv', 'acidentes2015.csv', 'acidentes2016_atual.csv', 'acidentes2017.csv', 'acidentes2018.csv', 'acidentes2019.csv', 'acidentes2020.csv']}, \n",
        "         'Acidentes': {'folder': 'Agrupados%20por%20pessoa%20-%20Todas%20as%20causas%20e%20tipos%20de%20acidentes%20(desde%202017)', \n",
        "                       'files': ['acidentes2017_todas_causas_tipos.csv', 'acidentes2018_todas_causas_tipos.csv', 'acidentes2019_todas_causas_tipos.csv', 'acidentes2020_todas_causas_tipos.csv']}\n",
        "         }"
      ],
      "execution_count": 1,
      "outputs": []
    },
    {
      "cell_type": "code",
      "metadata": {
        "id": "f3hDwhksvT59",
        "colab_type": "code",
        "colab": {
          "base_uri": "https://localhost:8080/",
          "height": 581
        },
        "outputId": "e019a082-4939-4176-f2ec-ad6047004d88"
      },
      "source": [
        "# Mostra o link de todas as bases\n",
        "for base in bases.keys():\n",
        "  for arq in bases[base]['files']:\n",
        "    print(f'{url}/{bases[base][\"folder\"]}/{arq}?raw=true')"
      ],
      "execution_count": 2,
      "outputs": [
        {
          "output_type": "stream",
          "text": [
            "https://media.githubusercontent.com/media/lucifernandes/acidentesPRF/master/Bases/Agrupados%20por%20ocorrencia/datatran2007.csv?raw=true\n",
            "https://media.githubusercontent.com/media/lucifernandes/acidentesPRF/master/Bases/Agrupados%20por%20ocorrencia/datatran2008.csv?raw=true\n",
            "https://media.githubusercontent.com/media/lucifernandes/acidentesPRF/master/Bases/Agrupados%20por%20ocorrencia/datatran2009.csv?raw=true\n",
            "https://media.githubusercontent.com/media/lucifernandes/acidentesPRF/master/Bases/Agrupados%20por%20ocorrencia/datatran2010.csv?raw=true\n",
            "https://media.githubusercontent.com/media/lucifernandes/acidentesPRF/master/Bases/Agrupados%20por%20ocorrencia/datatran2011.csv?raw=true\n",
            "https://media.githubusercontent.com/media/lucifernandes/acidentesPRF/master/Bases/Agrupados%20por%20ocorrencia/datatran2012.csv?raw=true\n",
            "https://media.githubusercontent.com/media/lucifernandes/acidentesPRF/master/Bases/Agrupados%20por%20ocorrencia/datatran2013.csv?raw=true\n",
            "https://media.githubusercontent.com/media/lucifernandes/acidentesPRF/master/Bases/Agrupados%20por%20ocorrencia/datatran2014.csv?raw=true\n",
            "https://media.githubusercontent.com/media/lucifernandes/acidentesPRF/master/Bases/Agrupados%20por%20ocorrencia/datatran2015.csv?raw=true\n",
            "https://media.githubusercontent.com/media/lucifernandes/acidentesPRF/master/Bases/Agrupados%20por%20ocorrencia/datatran2016_atual.csv?raw=true\n",
            "https://media.githubusercontent.com/media/lucifernandes/acidentesPRF/master/Bases/Agrupados%20por%20ocorrencia/datatran2017.csv?raw=true\n",
            "https://media.githubusercontent.com/media/lucifernandes/acidentesPRF/master/Bases/Agrupados%20por%20ocorrencia/datatran2018.csv?raw=true\n",
            "https://media.githubusercontent.com/media/lucifernandes/acidentesPRF/master/Bases/Agrupados%20por%20ocorrencia/datatran2019.csv?raw=true\n",
            "https://media.githubusercontent.com/media/lucifernandes/acidentesPRF/master/Bases/Agrupados%20por%20ocorrencia/datatran2020.csv?raw=true\n",
            "https://media.githubusercontent.com/media/lucifernandes/acidentesPRF/master/Bases/Agrupados%20por%20pessoa/acidentes2007.csv?raw=true\n",
            "https://media.githubusercontent.com/media/lucifernandes/acidentesPRF/master/Bases/Agrupados%20por%20pessoa/acidentes2008.csv?raw=true\n",
            "https://media.githubusercontent.com/media/lucifernandes/acidentesPRF/master/Bases/Agrupados%20por%20pessoa/acidentes2009.csv?raw=true\n",
            "https://media.githubusercontent.com/media/lucifernandes/acidentesPRF/master/Bases/Agrupados%20por%20pessoa/acidentes2010.csv?raw=true\n",
            "https://media.githubusercontent.com/media/lucifernandes/acidentesPRF/master/Bases/Agrupados%20por%20pessoa/acidentes2011.csv?raw=true\n",
            "https://media.githubusercontent.com/media/lucifernandes/acidentesPRF/master/Bases/Agrupados%20por%20pessoa/acidentes2012.csv?raw=true\n",
            "https://media.githubusercontent.com/media/lucifernandes/acidentesPRF/master/Bases/Agrupados%20por%20pessoa/acidentes2013.csv?raw=true\n",
            "https://media.githubusercontent.com/media/lucifernandes/acidentesPRF/master/Bases/Agrupados%20por%20pessoa/acidentes2014.csv?raw=true\n",
            "https://media.githubusercontent.com/media/lucifernandes/acidentesPRF/master/Bases/Agrupados%20por%20pessoa/acidentes2015.csv?raw=true\n",
            "https://media.githubusercontent.com/media/lucifernandes/acidentesPRF/master/Bases/Agrupados%20por%20pessoa/acidentes2016_atual.csv?raw=true\n",
            "https://media.githubusercontent.com/media/lucifernandes/acidentesPRF/master/Bases/Agrupados%20por%20pessoa/acidentes2017.csv?raw=true\n",
            "https://media.githubusercontent.com/media/lucifernandes/acidentesPRF/master/Bases/Agrupados%20por%20pessoa/acidentes2018.csv?raw=true\n",
            "https://media.githubusercontent.com/media/lucifernandes/acidentesPRF/master/Bases/Agrupados%20por%20pessoa/acidentes2019.csv?raw=true\n",
            "https://media.githubusercontent.com/media/lucifernandes/acidentesPRF/master/Bases/Agrupados%20por%20pessoa/acidentes2020.csv?raw=true\n",
            "https://media.githubusercontent.com/media/lucifernandes/acidentesPRF/master/Bases/Agrupados%20por%20pessoa%20-%20Todas%20as%20causas%20e%20tipos%20de%20acidentes%20(desde%202017)/acidentes2017_todas_causas_tipos.csv?raw=true\n",
            "https://media.githubusercontent.com/media/lucifernandes/acidentesPRF/master/Bases/Agrupados%20por%20pessoa%20-%20Todas%20as%20causas%20e%20tipos%20de%20acidentes%20(desde%202017)/acidentes2018_todas_causas_tipos.csv?raw=true\n",
            "https://media.githubusercontent.com/media/lucifernandes/acidentesPRF/master/Bases/Agrupados%20por%20pessoa%20-%20Todas%20as%20causas%20e%20tipos%20de%20acidentes%20(desde%202017)/acidentes2019_todas_causas_tipos.csv?raw=true\n",
            "https://media.githubusercontent.com/media/lucifernandes/acidentesPRF/master/Bases/Agrupados%20por%20pessoa%20-%20Todas%20as%20causas%20e%20tipos%20de%20acidentes%20(desde%202017)/acidentes2020_todas_causas_tipos.csv?raw=true\n"
          ],
          "name": "stdout"
        }
      ]
    },
    {
      "cell_type": "code",
      "metadata": {
        "id": "OilcAEo9T7Y0",
        "colab_type": "code",
        "colab": {
          "base_uri": "https://localhost:8080/",
          "height": 632
        },
        "outputId": "4a135cd8-1cf6-49bf-fa4e-e03845e32845"
      },
      "source": [
        "df = pd.read_csv(f'{url}/{bases[\"Ocorrencias\"][\"folder\"]}/{bases[\"Ocorrencias\"][\"files\"][0]}?raw=true', encoding='ISO-8859-1', sep=';')\n",
        "#df = pd.read_csv(f'{url}/{bases[\"Pessoas\"][\"folder\"]}/{bases[\"Pessoas\"][\"files\"][0]}?raw=true', encoding='ISO-8859-1', sep=',')\n",
        "#df = pd.read_csv(f'{url}/{bases[\"Acidentes\"][\"folder\"]}/{bases[\"Acidentes\"][\"files\"][0]}?raw=true', encoding='ISO-8859-1', sep=';')\n",
        "\n",
        "df.info()"
      ],
      "execution_count": 3,
      "outputs": [
        {
          "output_type": "stream",
          "text": [
            "<class 'pandas.core.frame.DataFrame'>\n",
            "RangeIndex: 127675 entries, 0 to 127674\n",
            "Data columns (total 26 columns):\n",
            " #   Column                  Non-Null Count   Dtype \n",
            "---  ------                  --------------   ----- \n",
            " 0   id                      127675 non-null  int64 \n",
            " 1   data_inversa            127675 non-null  object\n",
            " 2   dia_semana              127675 non-null  object\n",
            " 3   horario                 127675 non-null  object\n",
            " 4   uf                      127675 non-null  object\n",
            " 5   br                      127675 non-null  object\n",
            " 6   km                      127675 non-null  object\n",
            " 7   municipio               127675 non-null  object\n",
            " 8   causa_acidente          127675 non-null  object\n",
            " 9   tipo_acidente           127675 non-null  object\n",
            " 10  classificacao_acidente  127675 non-null  object\n",
            " 11  fase_dia                127675 non-null  object\n",
            " 12  sentido_via             127675 non-null  object\n",
            " 13  condicao_metereologica  127675 non-null  object\n",
            " 14  tipo_pista              127675 non-null  object\n",
            " 15  tracado_via             127675 non-null  object\n",
            " 16  uso_solo                127675 non-null  object\n",
            " 17  ano                     127675 non-null  int64 \n",
            " 18  pessoas                 127675 non-null  int64 \n",
            " 19  mortos                  127675 non-null  int64 \n",
            " 20  feridos_leves           127675 non-null  int64 \n",
            " 21  feridos_graves          127675 non-null  int64 \n",
            " 22  ilesos                  127675 non-null  int64 \n",
            " 23  ignorados               127675 non-null  int64 \n",
            " 24  feridos                 127675 non-null  int64 \n",
            " 25  veiculos                127675 non-null  int64 \n",
            "dtypes: int64(10), object(16)\n",
            "memory usage: 25.3+ MB\n"
          ],
          "name": "stdout"
        },
        {
          "output_type": "stream",
          "text": [
            "/usr/local/lib/python3.6/dist-packages/IPython/core/interactiveshell.py:2718: DtypeWarning: Columns (5,6) have mixed types.Specify dtype option on import or set low_memory=False.\n",
            "  interactivity=interactivity, compiler=compiler, result=result)\n"
          ],
          "name": "stderr"
        }
      ]
    },
    {
      "cell_type": "markdown",
      "metadata": {
        "id": "Fxa1J86ST0M6",
        "colab_type": "text"
      },
      "source": [
        "# **Etapa Limpeza**"
      ]
    },
    {
      "cell_type": "markdown",
      "metadata": {
        "id": "hnR2OfkZDuW-",
        "colab_type": "text"
      },
      "source": [
        "Para a etapa de limpeza, as bases de dados foram estudadas separadamente, como será mostrado a seguir:"
      ]
    },
    {
      "cell_type": "code",
      "metadata": {
        "id": "2P_dYZio8hgN",
        "colab_type": "code",
        "colab": {}
      },
      "source": [
        "# LUCAS\n",
        "dfOcorrencias = pd.read_csv(f'{url}/{bases[\"Ocorrencias\"][\"folder\"]}/{bases[\"Ocorrencias\"][\"files\"][0]}?raw=true', encoding='ISO-8859-1', sep=';')\n",
        "dfPessoas = pd.read_csv(f'{url}/{bases[\"Pessoas\"][\"folder\"]}/{bases[\"Pessoas\"][\"files\"][0]}?raw=true', encoding='ISO-8859-1', sep=',')"
      ],
      "execution_count": null,
      "outputs": []
    },
    {
      "cell_type": "code",
      "metadata": {
        "id": "x8fjqvlsvdoN",
        "colab_type": "code",
        "colab": {
          "base_uri": "https://localhost:8080/",
          "height": 453
        },
        "outputId": "9c4b2030-a2c8-4263-b22c-4f17c8fd6f79"
      },
      "source": [
        "# Informações\n",
        "print(f'OCORRÊNCIAS: {bases[\"Ocorrencias\"][\"files\"][0]}')\n",
        "print(f'Qtd de IDs: {len(dfOcorrencias.id)}')\n",
        "print(f'Qtd de IDs repetidos: {len(dfOcorrencias.id) - len(dfOcorrencias.id.unique())}')\n",
        "print(f'Qtd de BR igual a (null): {len(dfOcorrencias[dfOcorrencias.br == \"(null)\"])}')\n",
        "print(f'Qtd de UF igual a (null): {len(dfOcorrencias[dfOcorrencias.uf == \"(null)\"])}')\n",
        "print(f'Qtd de Classificação de Acidentes igual a (null): {len(dfOcorrencias[dfOcorrencias.classificacao_acidente == \"(null)\"])}')\n",
        "print(f'Qtd de Fase do Dia igual a (null): {len(dfOcorrencias[dfOcorrencias.fase_dia == \"(null)\"])}')\n",
        "\n",
        "print(f'PESSOAS: {bases[\"Pessoas\"][\"files\"][0]}')\n",
        "print(f'Qtd de IDs: {len(dfPessoas.id)}')\n",
        "print(f'Qtd de IDs repetidos: {len(dfPessoas.id) - len(dfPessoas.id.unique())}')\n",
        "print(f'Qtd de BR igual a (null): {len(dfPessoas[dfPessoas.br == \"(null)\"])}')\n",
        "print(f'Qtd de UF igual a (null): {len(dfPessoas[dfPessoas.uf == \"(null)\"])}')\n",
        "print(f'Qtd de Classificação de Acidentes igual a (null): {len(dfPessoas[dfPessoas.classificacao_acidente == \"(null)\"])}')\n",
        "print(f'Qtd de Fase do Dia igual a (null): {len(dfPessoas[dfPessoas.fase_dia == \"(null)\"])}')\n",
        "print(f'Qtd de ID do Veículo igual a (null): {len(dfPessoas[dfPessoas.id_veiculo == \"(null)\"])}')\n",
        "print(f'Qtd de Tipo do Veículo igual a (null): {len(dfPessoas[dfPessoas.tipo_veiculo == \"(null)\"])}')\n",
        "print(f'Qtd de Marca igual a (null): {len(dfPessoas[dfPessoas.marca == \"(null)\"])}')\n",
        "print(f'Qtd de Ano de Fabricação igual a (null): {len(dfPessoas[dfPessoas.ano_fabricacao_veiculo == \"(null)\"])}')\n",
        "print(f'Qtd de Idade igual a NA: {len(dfPessoas[dfPessoas.idade == \"NA\"])}')\n",
        "print(f'Qtd de Sexo igual a NA: {len(dfPessoas[dfPessoas.sexo == \"NA\"])}')\n",
        "print(f'Qtd de Nacionalidade igual a NA: {len(dfPessoas[dfPessoas.nacionalidade == \"NA\"])}')\n",
        "print(f'Qtd de Naturalidade igual a NA: {len(dfPessoas[dfPessoas.naturalidade == \"NA\"])}')"
      ],
      "execution_count": null,
      "outputs": [
        {
          "output_type": "stream",
          "text": [
            "OCORRÊNCIAS: datatran2007.csv\n",
            "Qtd de IDs: 127675\n",
            "Qtd de IDs repetidos: 4\n",
            "Qtd de BR igual a (null): 5\n",
            "Qtd de UF igual a (null): 5\n",
            "Qtd de Classificação de Acidentes igual a (null): 5\n",
            "Qtd de Fase do Dia igual a (null): 25\n",
            "PESSOAS: acidentes2007.csv\n",
            "Qtd de IDs: 269139\n",
            "Qtd de IDs repetidos: 140695\n",
            "Qtd de BR igual a (null): 15\n",
            "Qtd de UF igual a (null): 15\n",
            "Qtd de Classificação de Acidentes igual a (null): 22\n",
            "Qtd de Fase do Dia igual a (null): 44\n",
            "Qtd de ID do Veículo igual a (null): 5719\n",
            "Qtd de Tipo do Veículo igual a (null): 6306\n",
            "Qtd de Marca igual a (null): 32657\n",
            "Qtd de Ano de Fabricação igual a (null): 5719\n",
            "Qtd de Idade igual a NA: 0\n",
            "Qtd de Sexo igual a NA: 0\n",
            "Qtd de Nacionalidade igual a NA: 0\n",
            "Qtd de Naturalidade igual a NA: 0\n"
          ],
          "name": "stdout"
        },
        {
          "output_type": "stream",
          "text": [
            "/usr/local/lib/python3.6/dist-packages/pandas/core/ops/array_ops.py:253: FutureWarning: elementwise comparison failed; returning scalar instead, but in the future will perform elementwise comparison\n",
            "  res_values = method(rvalues)\n"
          ],
          "name": "stderr"
        }
      ]
    },
    {
      "cell_type": "code",
      "metadata": {
        "id": "d4eq7TflMR7W",
        "colab_type": "code",
        "colab": {}
      },
      "source": [
        "#Angela\n",
        "\n",
        "#Obs: Algumas planilhas divergem na quantidade de atributos (ex: Pessoas 2007 e 2017)\n",
        "\n",
        "#print(len(bases[\"Pessoas\"][\"files\"]))\n",
        "\n",
        "dfPessoas = pd.read_csv(f'{url}/{bases[\"Pessoas\"][\"folder\"]}/{bases[\"Pessoas\"][\"files\"][10]}?raw=true', encoding='ISO-8859-1', sep=';')\n",
        "dfAcidenCausas = pd.read_csv(f'{url}/{bases[\"Acidentes\"][\"folder\"]}/{bases[\"Acidentes\"][\"files\"][0]}?raw=true', encoding='ISO-8859-1', sep=';')"
      ],
      "execution_count": null,
      "outputs": []
    },
    {
      "cell_type": "code",
      "metadata": {
        "id": "qFgLkr_hM346",
        "colab_type": "code",
        "colab": {
          "base_uri": "https://localhost:8080/",
          "height": 1000
        },
        "outputId": "d01f9426-512d-4db9-e9ad-33bf08c4dfb5"
      },
      "source": [
        "dfAcidenCausas.info()\n",
        "dfPessoas.info()"
      ],
      "execution_count": null,
      "outputs": [
        {
          "output_type": "stream",
          "text": [
            "<class 'pandas.core.frame.DataFrame'>\n",
            "RangeIndex: 349067 entries, 0 to 349066\n",
            "Data columns (total 37 columns):\n",
            " #   Column                  Non-Null Count   Dtype  \n",
            "---  ------                  --------------   -----  \n",
            " 0   id                      349067 non-null  int64  \n",
            " 1   pesid                   319292 non-null  float64\n",
            " 2   data_inversa            349067 non-null  object \n",
            " 3   dia_semana              349067 non-null  object \n",
            " 4   horario                 349067 non-null  object \n",
            " 5   uf                      349067 non-null  object \n",
            " 6   br                      348546 non-null  float64\n",
            " 7   km                      348546 non-null  object \n",
            " 8   municipio               349067 non-null  object \n",
            " 9   causa_principal         349067 non-null  object \n",
            " 10  causa_acidente          349067 non-null  object \n",
            " 11  ordem_tipo_acidente     349067 non-null  int64  \n",
            " 12  tipo_acidente           349067 non-null  object \n",
            " 13  classificacao_acidente  349067 non-null  object \n",
            " 14  fase_dia                349067 non-null  object \n",
            " 15  sentido_via             349067 non-null  object \n",
            " 16  condicao_metereologica  349067 non-null  object \n",
            " 17  tipo_pista              349067 non-null  object \n",
            " 18  tracado_via             349067 non-null  object \n",
            " 19  uso_solo                349067 non-null  object \n",
            " 20  id_veiculo              349062 non-null  float64\n",
            " 21  tipo_veiculo            349067 non-null  object \n",
            " 22  marca                   336224 non-null  object \n",
            " 23  ano_fabricacao_veiculo  334697 non-null  float64\n",
            " 24  tipo_envolvido          349067 non-null  object \n",
            " 25  estado_fisico           349067 non-null  object \n",
            " 26  idade                   286177 non-null  float64\n",
            " 27  sexo                    349067 non-null  object \n",
            " 28  ilesos                  349067 non-null  int64  \n",
            " 29  feridos_leves           349067 non-null  int64  \n",
            " 30  feridos_graves          349067 non-null  int64  \n",
            " 31  mortos                  349067 non-null  int64  \n",
            " 32  latitude                349067 non-null  object \n",
            " 33  longitude               349067 non-null  object \n",
            " 34  regional                349067 non-null  object \n",
            " 35  delegacia               349067 non-null  object \n",
            " 36  uop                     332235 non-null  object \n",
            "dtypes: float64(5), int64(6), object(26)\n",
            "memory usage: 98.5+ MB\n",
            "<class 'pandas.core.frame.DataFrame'>\n",
            "RangeIndex: 204395 entries, 0 to 204394\n",
            "Data columns (total 35 columns):\n",
            " #   Column                  Non-Null Count   Dtype  \n",
            "---  ------                  --------------   -----  \n",
            " 0   id                      204395 non-null  int64  \n",
            " 1   pesid                   204394 non-null  float64\n",
            " 2   data_inversa            204395 non-null  object \n",
            " 3   dia_semana              204395 non-null  object \n",
            " 4   horario                 204395 non-null  object \n",
            " 5   uf                      204395 non-null  object \n",
            " 6   br                      204071 non-null  float64\n",
            " 7   km                      204071 non-null  object \n",
            " 8   municipio               204395 non-null  object \n",
            " 9   causa_acidente          204395 non-null  object \n",
            " 10  tipo_acidente           204395 non-null  object \n",
            " 11  classificacao_acidente  204395 non-null  object \n",
            " 12  fase_dia                204395 non-null  object \n",
            " 13  sentido_via             204395 non-null  object \n",
            " 14  condicao_metereologica  204395 non-null  object \n",
            " 15  tipo_pista              204395 non-null  object \n",
            " 16  tracado_via             204395 non-null  object \n",
            " 17  uso_solo                204395 non-null  object \n",
            " 18  id_veiculo              204391 non-null  float64\n",
            " 19  tipo_veiculo            204395 non-null  object \n",
            " 20  marca                   195211 non-null  object \n",
            " 21  ano_fabricacao_veiculo  194327 non-null  float64\n",
            " 22  tipo_envolvido          204395 non-null  object \n",
            " 23  estado_fisico           204395 non-null  object \n",
            " 24  idade                   187182 non-null  float64\n",
            " 25  sexo                    204395 non-null  object \n",
            " 26  ilesos                  204395 non-null  int64  \n",
            " 27  feridos_leves           204395 non-null  int64  \n",
            " 28  feridos_graves          204395 non-null  int64  \n",
            " 29  mortos                  204395 non-null  int64  \n",
            " 30  latitude                204395 non-null  object \n",
            " 31  longitude               204395 non-null  object \n",
            " 32  regional                204395 non-null  object \n",
            " 33  delegacia               204395 non-null  object \n",
            " 34  uop                     194583 non-null  object \n",
            "dtypes: float64(5), int64(5), object(25)\n",
            "memory usage: 54.6+ MB\n"
          ],
          "name": "stdout"
        }
      ]
    },
    {
      "cell_type": "code",
      "metadata": {
        "id": "atsTliFeNXXq",
        "colab_type": "code",
        "colab": {
          "base_uri": "https://localhost:8080/",
          "height": 35
        },
        "outputId": "607992b8-2938-4e7f-f262-058e4f8e9b96"
      },
      "source": [
        "len(dfAcidenCausas[dfAcidenCausas.duplicated(subset='pesid')])\n",
        "#len(dfPessoas[dfPessoas.duplicated(subset='id')])"
      ],
      "execution_count": null,
      "outputs": [
        {
          "output_type": "execute_result",
          "data": {
            "text/plain": [
              "144689"
            ]
          },
          "metadata": {
            "tags": []
          },
          "execution_count": 23
        }
      ]
    },
    {
      "cell_type": "markdown",
      "metadata": {
        "id": "WYscZDiYCz-A",
        "colab_type": "text"
      },
      "source": [
        "## Base 1: **Agrupados por ocorrência**"
      ]
    },
    {
      "cell_type": "code",
      "metadata": {
        "id": "kNCaTqw5y8Ot",
        "colab_type": "code",
        "colab": {}
      },
      "source": [
        "# Observações para a reunião (Hugo)\n",
        "\n",
        "# Tranformação dos atributos categóricos para numéricos (One-hot ou colocar números)\n",
        "# Escolher atributos que podem gerar enviesamento(Naturalidade, Sexo) \n",
        "# Escolher atributos que serão estimados (Classificação e regressão)\n",
        "# Normalização/padronização dos atributos numéricos\n",
        "# Escolher estratégias para solução de dados faltantes (Ignorada, Não informada, (null), NULL, NaN)\n",
        "# Analisar possível problema de Id's repetidos\n",
        "\n",
        "# Base de Pessoas\n",
        "# pesid repetido\n",
        "#   Naturalidade = \"Não Informado\"\n",
        "#   Marca = (null)\n",
        "\n",
        "# Base de Ocorrencias \n",
        "# Id repetido\n",
        "#   classificacao_acidente = (null)\n",
        "#   condicao_metereologica = \"Ignorada\""
      ],
      "execution_count": null,
      "outputs": []
    },
    {
      "cell_type": "code",
      "metadata": {
        "id": "ZA_IeMdbC-Z_",
        "colab_type": "code",
        "colab": {}
      },
      "source": [
        ""
      ],
      "execution_count": null,
      "outputs": []
    },
    {
      "cell_type": "markdown",
      "metadata": {
        "id": "Dei7imZ_C-un",
        "colab_type": "text"
      },
      "source": [
        "## Base 2: **Agrupados por pessoa**"
      ]
    },
    {
      "cell_type": "code",
      "metadata": {
        "id": "HUhPW6IEDEKW",
        "colab_type": "code",
        "colab": {}
      },
      "source": [
        ""
      ],
      "execution_count": null,
      "outputs": []
    },
    {
      "cell_type": "markdown",
      "metadata": {
        "id": "OsAvzITmDEeo",
        "colab_type": "text"
      },
      "source": [
        "## Base 3: **Agrupados por pessoa - Todas as causas e tipos de acidentes (a partir de 2017)**"
      ]
    },
    {
      "cell_type": "code",
      "metadata": {
        "id": "LPvSYPdsDaDL",
        "colab_type": "code",
        "colab": {}
      },
      "source": [
        ""
      ],
      "execution_count": null,
      "outputs": []
    },
    {
      "cell_type": "markdown",
      "metadata": {
        "id": "Y89gJIv_UIi-",
        "colab_type": "text"
      },
      "source": [
        "# **Etapa Exploração**"
      ]
    },
    {
      "cell_type": "code",
      "metadata": {
        "id": "xTF93621ULi7",
        "colab_type": "code",
        "colab": {}
      },
      "source": [
        ""
      ],
      "execution_count": null,
      "outputs": []
    }
  ]
}