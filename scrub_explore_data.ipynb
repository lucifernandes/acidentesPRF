{
  "nbformat": 4,
  "nbformat_minor": 0,
  "metadata": {
    "colab": {
      "name": "scrub-explore-data",
      "provenance": [],
      "include_colab_link": true
    },
    "kernelspec": {
      "name": "python3",
      "display_name": "Python 3"
    }
  },
  "cells": [
    {
      "cell_type": "markdown",
      "metadata": {
        "id": "view-in-github",
        "colab_type": "text"
      },
      "source": [
        "<a href=\"https://colab.research.google.com/github/lucifernandes/acidentesPRF/blob/master/scrub_explore_data.ipynb\" target=\"_parent\"><img src=\"https://colab.research.google.com/assets/colab-badge.svg\" alt=\"Open In Colab\"/></a>"
      ]
    },
    {
      "cell_type": "markdown",
      "metadata": {
        "id": "2Xz3CqCeT834"
      },
      "source": [
        "#Dados abertos sobre Acidentes da Polícia Rodoviária Federal"
      ]
    },
    {
      "cell_type": "markdown",
      "metadata": {
        "id": "D5iYnM8bDjVY"
      },
      "source": [
        "Lendo as bases de dados"
      ]
    },
    {
      "cell_type": "code",
      "metadata": {
        "id": "AB_c-7GwtNEW"
      },
      "source": [
        "import pandas as pd\n",
        "\n",
        "url = 'https://media.githubusercontent.com/media/lucifernandes/acidentesPRF/master/Bases'\n",
        "bases = {'Ocorrencias': {'folder': 'Agrupados%20por%20ocorrencia', \n",
        "                         'files': ['datatran2007.csv', 'datatran2008.csv', 'datatran2009.csv', 'datatran2010.csv', 'datatran2011.csv', 'datatran2012.csv', 'datatran2013.csv', 'datatran2014.csv', 'datatran2015.csv', 'datatran2016_atual.csv', 'datatran2017.csv', 'datatran2018.csv', 'datatran2019.csv', 'datatran2020.csv']}, \n",
        "         'Pessoas': {'folder': 'Agrupados%20por%20pessoa', \n",
        "                     'files': ['acidentes2007.csv', 'acidentes2008.csv', 'acidentes2009.csv', 'acidentes2010.csv', 'acidentes2011.csv', 'acidentes2012.csv', 'acidentes2013.csv', 'acidentes2014.csv', 'acidentes2015.csv', 'acidentes2016_atual.csv', 'acidentes2017.csv', 'acidentes2018.csv', 'acidentes2019.csv', 'acidentes2020.csv']}, \n",
        "         'Acidentes': {'folder': 'Agrupados%20por%20pessoa%20-%20Todas%20as%20causas%20e%20tipos%20de%20acidentes%20(desde%202017)', \n",
        "                       'files': ['acidentes2017_todas_causas_tipos.csv', 'acidentes2018_todas_causas_tipos.csv', 'acidentes2019_todas_causas_tipos.csv', 'acidentes2020_todas_causas_tipos.csv']}\n",
        "         }"
      ],
      "execution_count": 2,
      "outputs": []
    },
    {
      "cell_type": "code",
      "metadata": {
        "id": "f3hDwhksvT59"
      },
      "source": [
        "# Mostra o link de todas as bases\n",
        "for base in bases.keys():\n",
        "  for arq in bases[base]['files']:\n",
        "    print(f'{url}/{bases[base][\"folder\"]}/{arq}?raw=true')"
      ],
      "execution_count": null,
      "outputs": []
    },
    {
      "cell_type": "markdown",
      "metadata": {
        "id": "Fxa1J86ST0M6"
      },
      "source": [
        "# **Etapa Limpeza**"
      ]
    },
    {
      "cell_type": "markdown",
      "metadata": {
        "id": "hnR2OfkZDuW-"
      },
      "source": [
        "Para a etapa de limpeza, as bases de dados foram estudadas separadamente, como será mostrado a seguir:"
      ]
    },
    {
      "cell_type": "markdown",
      "metadata": {
        "id": "WYscZDiYCz-A"
      },
      "source": [
        "## Base 1: **Agrupados por ocorrência**"
      ]
    },
    {
      "cell_type": "code",
      "metadata": {
        "id": "kNCaTqw5y8Ot"
      },
      "source": [
        "# Observações para a reunião (Hugo)\n",
        "\n",
        "# Tranformação dos atributos categóricos para numéricos (One-hot ou colocar números)\n",
        "# Escolher atributos que podem gerar enviesamento(Naturalidade, Sexo) \n",
        "# Escolher atributos que serão estimados (Classificação e regressão)\n",
        "# Normalização/padronização dos atributos numéricos\n",
        "# Escolher estratégias para solução de dados faltantes (Ignorada, Não informada, (null), NULL, NaN)\n",
        "# Analisar possível problema de Id's repetidos\n",
        "\n",
        "# Base de Pessoas\n",
        "# pesid repetido\n",
        "#   Naturalidade = \"Não Informado\"\n",
        "#   Marca = (null)\n",
        "\n",
        "# Base de Ocorrencias \n",
        "# Id repetido\n",
        "#   classificacao_acidente = (null)\n",
        "#   condicao_metereologica = \"Ignorada\""
      ],
      "execution_count": null,
      "outputs": []
    },
    {
      "cell_type": "code",
      "metadata": {
        "id": "ZA_IeMdbC-Z_"
      },
      "source": [
        ""
      ],
      "execution_count": null,
      "outputs": []
    },
    {
      "cell_type": "markdown",
      "metadata": {
        "id": "Dei7imZ_C-un"
      },
      "source": [
        "## Base 2: **Agrupados por pessoa**"
      ]
    },
    {
      "cell_type": "markdown",
      "metadata": {
        "id": "ZZiJLtuAwl_U"
      },
      "source": [
        "# Limpeza na base de pessoas\n",
        "\n",
        "* Atributos para **MANTER**: **id**, **pesid**, **data_inversa**, **dia_semana**, **horario**, **uf**, **br**, **km**, **municipio**, **causa_acidente**, **tipo_acidente**, **classificação_acidente**, **condicao_metereologica**, **sentido_via**, **tracado_via**, **tipo_veiculo**, **tipo_envolvido**, **estado_fisico**, **idade**, **sexo**, **ilesos**, **feridos_leves**, **feridos_graves**, **mortos**.\n",
        "\n",
        "* Atributos para **REMOVER**: **fase_dia**, **sentido_via**, **uso_solo**, **id_veiculo**, **marca**, **ano_fabricacao_veiculo**, **latitude**, **longitude**, **regional**, **delegacia**, **uop**.\n",
        "\n",
        "\n"
      ]
    },
    {
      "cell_type": "code",
      "metadata": {
        "id": "HUhPW6IEDEKW",
        "outputId": "a48cbb20-6c19-43ea-f343-6c892eead4aa",
        "colab": {
          "base_uri": "https://localhost:8080/",
          "height": 731
        }
      },
      "source": [
        "# IMPORTAÇÃO DAS 4 ÚLTIMAS BASES DE PESSOAS\n",
        "dfs = list()\n",
        "t = len(bases['Pessoas']['files'])\n",
        "for i in range(t-4, t):\n",
        "  dfs.append(pd.read_csv(f'{url}/{bases[\"Pessoas\"][\"folder\"]}/{bases[\"Pessoas\"][\"files\"][i]}?raw=true', encoding='ISO-8859-1', sep=';'))\n",
        "\n",
        "dfPessoas = pd.concat(dfs)\n",
        "dfPessoas.info()"
      ],
      "execution_count": 97,
      "outputs": [
        {
          "output_type": "stream",
          "text": [
            "<class 'pandas.core.frame.DataFrame'>\n",
            "Int64Index: 609882 entries, 0 to 78411\n",
            "Data columns (total 35 columns):\n",
            " #   Column                  Non-Null Count   Dtype  \n",
            "---  ------                  --------------   -----  \n",
            " 0   id                      609882 non-null  float64\n",
            " 1   pesid                   609878 non-null  float64\n",
            " 2   data_inversa            609882 non-null  object \n",
            " 3   dia_semana              609882 non-null  object \n",
            " 4   horario                 609882 non-null  object \n",
            " 5   uf                      609882 non-null  object \n",
            " 6   br                      608891 non-null  float64\n",
            " 7   km                      608891 non-null  object \n",
            " 8   municipio               609882 non-null  object \n",
            " 9   causa_acidente          609882 non-null  object \n",
            " 10  tipo_acidente           609882 non-null  object \n",
            " 11  classificacao_acidente  609882 non-null  object \n",
            " 12  fase_dia                609882 non-null  object \n",
            " 13  sentido_via             609882 non-null  object \n",
            " 14  condicao_metereologica  609882 non-null  object \n",
            " 15  tipo_pista              609882 non-null  object \n",
            " 16  tracado_via             609882 non-null  object \n",
            " 17  uso_solo                609882 non-null  object \n",
            " 18  id_veiculo              609878 non-null  float64\n",
            " 19  tipo_veiculo            609882 non-null  object \n",
            " 20  marca                   580333 non-null  object \n",
            " 21  ano_fabricacao_veiculo  575291 non-null  float64\n",
            " 22  tipo_envolvido          609882 non-null  object \n",
            " 23  estado_fisico           609882 non-null  object \n",
            " 24  idade                   553522 non-null  float64\n",
            " 25  sexo                    609882 non-null  object \n",
            " 26  ilesos                  609882 non-null  int64  \n",
            " 27  feridos_leves           609882 non-null  int64  \n",
            " 28  feridos_graves          609882 non-null  int64  \n",
            " 29  mortos                  609882 non-null  int64  \n",
            " 30  latitude                609882 non-null  object \n",
            " 31  longitude               609882 non-null  object \n",
            " 32  regional                609882 non-null  object \n",
            " 33  delegacia               609882 non-null  object \n",
            " 34  uop                     582049 non-null  object \n",
            "dtypes: float64(6), int64(4), object(25)\n",
            "memory usage: 167.5+ MB\n"
          ],
          "name": "stdout"
        }
      ]
    },
    {
      "cell_type": "code",
      "metadata": {
        "id": "H9e4Ci1P4AWy",
        "outputId": "75004c1d-d8b6-4214-edff-0b5e4f4954f0",
        "colab": {
          "base_uri": "https://localhost:8080/",
          "height": 34
        }
      },
      "source": [
        "# REMOÇÃO DE ATRIBUTOS\n",
        "dfPessoas = dfPessoas.drop(columns=['fase_dia', 'sentido_via', 'uso_solo', 'id_veiculo', 'marca', 'ano_fabricacao_veiculo', 'latitude', 'longitude', 'regional', 'delegacia', 'uop'])\n",
        "dfPessoas.shape"
      ],
      "execution_count": 98,
      "outputs": [
        {
          "output_type": "execute_result",
          "data": {
            "text/plain": [
              "(609882, 24)"
            ]
          },
          "metadata": {
            "tags": []
          },
          "execution_count": 98
        }
      ]
    },
    {
      "cell_type": "code",
      "metadata": {
        "id": "a5NxV2mH5SL6",
        "outputId": "4c272f01-91e7-413e-dda4-4c5953cd34e6",
        "colab": {
          "base_uri": "https://localhost:8080/",
          "height": 989
        }
      },
      "source": [
        "# VERIFICAÇÃO DE NULOS\n",
        "def testa_valores_nulos(dataframe, atributo):\n",
        "  if sum(dataframe[atributo].isnull()) == 0:\n",
        "    print('\\033[94m', atributo, ' => OK (não tem valores nulos)')\n",
        "  else:\n",
        "    print('\\033[93m', atributo, ' => *** TEM VALORES NULOS')\n",
        "\n",
        "def testa_valores_null(dataframe, atributo):\n",
        "  if sum(dataframe[atributo] == '(null)') == 0:\n",
        "    print('\\033[92m', atributo, ' => OK (não tem valores \"(null)\")')\n",
        "  else:\n",
        "    print('\\033[91m', atributo, ' => *** TEM VALORES \"(null)\"')\n",
        "\n",
        "print('-'*30, 'VALORES NULOS', '-'*30)\n",
        "for attr in dfPessoas.columns:\n",
        "  testa_valores_nulos(dfPessoas, attr)\n",
        "\n",
        "print('\\033[0m', '-'*30, 'VALORES (NULL)', '-'*30)\n",
        "for attr in dfPessoas.columns:\n",
        "  testa_valores_null(dfPessoas, attr)"
      ],
      "execution_count": 61,
      "outputs": [
        {
          "output_type": "stream",
          "text": [
            "------------------------------ VALORES NULOS ------------------------------\n",
            "\u001b[94m id  => OK (não tem valores nulos)\n",
            "\u001b[93m pesid  => *** TEM VALORES NULOS\n",
            "\u001b[94m data_inversa  => OK (não tem valores nulos)\n",
            "\u001b[94m dia_semana  => OK (não tem valores nulos)\n",
            "\u001b[94m horario  => OK (não tem valores nulos)\n",
            "\u001b[94m uf  => OK (não tem valores nulos)\n",
            "\u001b[93m br  => *** TEM VALORES NULOS\n",
            "\u001b[93m km  => *** TEM VALORES NULOS\n",
            "\u001b[94m municipio  => OK (não tem valores nulos)\n",
            "\u001b[94m causa_acidente  => OK (não tem valores nulos)\n",
            "\u001b[94m tipo_acidente  => OK (não tem valores nulos)\n",
            "\u001b[94m classificacao_acidente  => OK (não tem valores nulos)\n",
            "\u001b[94m condicao_metereologica  => OK (não tem valores nulos)\n",
            "\u001b[94m tipo_pista  => OK (não tem valores nulos)\n",
            "\u001b[94m tracado_via  => OK (não tem valores nulos)\n",
            "\u001b[94m tipo_veiculo  => OK (não tem valores nulos)\n",
            "\u001b[94m tipo_envolvido  => OK (não tem valores nulos)\n",
            "\u001b[94m estado_fisico  => OK (não tem valores nulos)\n",
            "\u001b[93m idade  => *** TEM VALORES NULOS\n",
            "\u001b[94m sexo  => OK (não tem valores nulos)\n",
            "\u001b[94m ilesos  => OK (não tem valores nulos)\n",
            "\u001b[94m feridos_leves  => OK (não tem valores nulos)\n",
            "\u001b[94m feridos_graves  => OK (não tem valores nulos)\n",
            "\u001b[94m mortos  => OK (não tem valores nulos)\n",
            "\u001b[94m latitude  => OK (não tem valores nulos)\n",
            "\u001b[94m longitude  => OK (não tem valores nulos)\n",
            "\u001b[0m ------------------------------ VALORES (NULL) ------------------------------\n"
          ],
          "name": "stdout"
        },
        {
          "output_type": "stream",
          "text": [
            "/usr/local/lib/python3.6/dist-packages/pandas/core/ops/array_ops.py:253: FutureWarning: elementwise comparison failed; returning scalar instead, but in the future will perform elementwise comparison\n",
            "  res_values = method(rvalues)\n"
          ],
          "name": "stderr"
        },
        {
          "output_type": "stream",
          "text": [
            "\u001b[92m id  => OK (não tem valores \"(null)\")\n",
            "\u001b[92m pesid  => OK (não tem valores \"(null)\")\n",
            "\u001b[92m data_inversa  => OK (não tem valores \"(null)\")\n",
            "\u001b[92m dia_semana  => OK (não tem valores \"(null)\")\n",
            "\u001b[92m horario  => OK (não tem valores \"(null)\")\n",
            "\u001b[92m uf  => OK (não tem valores \"(null)\")\n",
            "\u001b[92m br  => OK (não tem valores \"(null)\")\n",
            "\u001b[92m km  => OK (não tem valores \"(null)\")\n",
            "\u001b[92m municipio  => OK (não tem valores \"(null)\")\n",
            "\u001b[92m causa_acidente  => OK (não tem valores \"(null)\")\n",
            "\u001b[92m tipo_acidente  => OK (não tem valores \"(null)\")\n",
            "\u001b[92m classificacao_acidente  => OK (não tem valores \"(null)\")\n",
            "\u001b[92m condicao_metereologica  => OK (não tem valores \"(null)\")\n",
            "\u001b[92m tipo_pista  => OK (não tem valores \"(null)\")\n",
            "\u001b[92m tracado_via  => OK (não tem valores \"(null)\")\n",
            "\u001b[92m tipo_veiculo  => OK (não tem valores \"(null)\")\n",
            "\u001b[92m tipo_envolvido  => OK (não tem valores \"(null)\")\n",
            "\u001b[92m estado_fisico  => OK (não tem valores \"(null)\")\n",
            "\u001b[92m idade  => OK (não tem valores \"(null)\")\n",
            "\u001b[92m sexo  => OK (não tem valores \"(null)\")\n",
            "\u001b[92m ilesos  => OK (não tem valores \"(null)\")\n",
            "\u001b[92m feridos_leves  => OK (não tem valores \"(null)\")\n",
            "\u001b[92m feridos_graves  => OK (não tem valores \"(null)\")\n",
            "\u001b[92m mortos  => OK (não tem valores \"(null)\")\n",
            "\u001b[92m latitude  => OK (não tem valores \"(null)\")\n",
            "\u001b[92m longitude  => OK (não tem valores \"(null)\")\n"
          ],
          "name": "stdout"
        }
      ]
    },
    {
      "cell_type": "code",
      "metadata": {
        "id": "A9nu9lnCLA7Z",
        "outputId": "424680f6-777a-47cf-c85e-560d3d7c3885",
        "colab": {
          "base_uri": "https://localhost:8080/",
          "height": 510
        }
      },
      "source": [
        "# VERIFICAÇÃO DE TIPOS\n",
        "def testa_tipos(dataframe, atributo, tipo):\n",
        "  s = sum(dataframe[atributo].map(type) != tipo)\n",
        "  if s == 0: \n",
        "    print('\\033[92m', f'{atributo} => todos são {tipo}')\n",
        "  else: \n",
        "    print('\\033[91m', f'{atributo} => *** {s} ATRIBUTOS NÃO SÃO {tipo}')\n",
        "\n",
        "atributos_str = ['data_inversa', 'dia_semana', 'horario', 'uf', 'municipio', 'causa_acidente', 'tipo_acidente', 'classificacao_acidente', 'condicao_metereologica', 'tipo_pista', 'tracado_via', 'tipo_veiculo', 'tipo_envolvido', 'estado_fisico', 'sexo']\n",
        "atributos_int = ['id', 'pesid', 'br', 'idade', 'ilesos', 'feridos_leves', 'feridos_graves', 'mortos']\n",
        "atributos_float = ['km']\n",
        "\n",
        "print('\\033[0m', 'Atributos que devem ser STR')\n",
        "for attr in atributos_str:\n",
        "    testa_tipos(dfPessoas, attr, str)\n",
        "\n",
        "print('\\033[0m', 'Atributos que devem ser INT')\n",
        "for attr in atributos_int:\n",
        "    testa_tipos(dfPessoas, attr, int)\n",
        "\n",
        "print('\\033[0m', 'Atributos que devem ser FLOAT')\n",
        "for attr in atributos_float:\n",
        "    testa_tipos(dfPessoas, attr, float)\n",
        "\n",
        "print('\\033[0m', 'Quantidade de DATA INVERSA FORA DO PADRÃO AAAA-MM-DD =', sum(~dfPessoas['data_inversa'].str.match('[0-9]{4}-[0-9]{2}-[0-9]{2}')))\n",
        "print('\\033[0m', 'Quantidade de HORÁRIO FORA DO PADRÃO HH:MM:SS =', sum(~dfPessoas['horario'].str.match('[0-9]{2}:[0-9]{2}:[0-9]{2}')))"
      ],
      "execution_count": 100,
      "outputs": [
        {
          "output_type": "stream",
          "text": [
            "\u001b[0m Atributos que devem ser STR\n",
            "\u001b[92m data_inversa => todos são <class 'str'>\n",
            "\u001b[92m dia_semana => todos são <class 'str'>\n",
            "\u001b[92m horario => todos são <class 'str'>\n",
            "\u001b[92m uf => todos são <class 'str'>\n",
            "\u001b[92m municipio => todos são <class 'str'>\n",
            "\u001b[92m causa_acidente => todos são <class 'str'>\n",
            "\u001b[92m tipo_acidente => todos são <class 'str'>\n",
            "\u001b[92m classificacao_acidente => todos são <class 'str'>\n",
            "\u001b[92m condicao_metereologica => todos são <class 'str'>\n",
            "\u001b[92m tipo_pista => todos são <class 'str'>\n",
            "\u001b[92m tracado_via => todos são <class 'str'>\n",
            "\u001b[92m tipo_veiculo => todos são <class 'str'>\n",
            "\u001b[92m tipo_envolvido => todos são <class 'str'>\n",
            "\u001b[92m estado_fisico => todos são <class 'str'>\n",
            "\u001b[92m sexo => todos são <class 'str'>\n",
            "\u001b[0m Atributos que devem ser INT\n",
            "\u001b[91m id => *** 609882 ATRIBUTOS NÃO SÃO <class 'int'>\n",
            "\u001b[91m pesid => *** 609882 ATRIBUTOS NÃO SÃO <class 'int'>\n",
            "\u001b[91m br => *** 609882 ATRIBUTOS NÃO SÃO <class 'int'>\n",
            "\u001b[91m idade => *** 609882 ATRIBUTOS NÃO SÃO <class 'int'>\n",
            "\u001b[92m ilesos => todos são <class 'int'>\n",
            "\u001b[92m feridos_leves => todos são <class 'int'>\n",
            "\u001b[92m feridos_graves => todos são <class 'int'>\n",
            "\u001b[92m mortos => todos são <class 'int'>\n",
            "\u001b[0m Atributos que devem ser FLOAT\n",
            "\u001b[91m km => *** 608891 ATRIBUTOS NÃO SÃO <class 'float'>\n",
            "\u001b[0m Quantidade de DATA INVERSA FORA DO PADRÃO AAAA-MM-DD = 0\n",
            "\u001b[0m Quantidade de HORÁRIO FORA DO PADRÃO HH:MM:SS = 0\n"
          ],
          "name": "stdout"
        }
      ]
    },
    {
      "cell_type": "code",
      "metadata": {
        "id": "ZAf_GqaUF40A",
        "outputId": "f13a2246-0af4-4fc9-8656-e60abbcb6d24",
        "colab": {
          "base_uri": "https://localhost:8080/",
          "height": 34
        }
      },
      "source": [
        "# LIMPEZA\n",
        "## Remove regitros com atributos br e km NaN\n",
        "t = len(dfPessoas.id)\n",
        "dfPessoas = dfPessoas[dfPessoas['br'].notna()]\n",
        "dfPessoas = dfPessoas[dfPessoas['km'].notna()] # Nem precisava, onde br é NaN, km também é\n",
        "print(f'Removidos {t - len(dfPessoas.id)} registros.')\n",
        "\n",
        "## Conversões\n",
        "dfPessoas['id'] = dfPessoas['id'].astype(int)\n",
        "\n",
        "qtd_pesid_nan = len(dfPessoas[dfPessoas['pesid'].isna()]['pesid'])\n",
        "dfPessoas.loc[dfPessoas['pesid'].isna(), 'pesid'] = [dfPessoas['pesid'].max() + 1 + i for i in range(qtd_pesid_nan)] # Substituindo valores NaN por PESIDs novos\n",
        "dfPessoas['pesid'] = dfPessoas['pesid'].astype(int)\n",
        "\n",
        "media_idade = dfPessoas.loc[dfPessoas['idade'] <= 110, 'idade'].mean()\n",
        "dfPessoas.loc[(dfPessoas['idade'].isna()) | (dfPessoas['idade'] > 110), 'idade'] = media_idade\n",
        "dfPessoas['idade'] = dfPessoas['idade'].astype(int)"
      ],
      "execution_count": 101,
      "outputs": [
        {
          "output_type": "stream",
          "text": [
            "Removidos 991 registros.\n"
          ],
          "name": "stdout"
        }
      ]
    },
    {
      "cell_type": "code",
      "metadata": {
        "id": "_ZjyTDAVpAAY",
        "outputId": "6df1e75d-5e51-48af-e3ba-9ee5fe76b842",
        "colab": {
          "base_uri": "https://localhost:8080/",
          "height": 428
        }
      },
      "source": [
        "dfPessoas.head()"
      ],
      "execution_count": 102,
      "outputs": [
        {
          "output_type": "execute_result",
          "data": {
            "text/html": [
              "<div>\n",
              "<style scoped>\n",
              "    .dataframe tbody tr th:only-of-type {\n",
              "        vertical-align: middle;\n",
              "    }\n",
              "\n",
              "    .dataframe tbody tr th {\n",
              "        vertical-align: top;\n",
              "    }\n",
              "\n",
              "    .dataframe thead th {\n",
              "        text-align: right;\n",
              "    }\n",
              "</style>\n",
              "<table border=\"1\" class=\"dataframe\">\n",
              "  <thead>\n",
              "    <tr style=\"text-align: right;\">\n",
              "      <th></th>\n",
              "      <th>id</th>\n",
              "      <th>pesid</th>\n",
              "      <th>data_inversa</th>\n",
              "      <th>dia_semana</th>\n",
              "      <th>horario</th>\n",
              "      <th>uf</th>\n",
              "      <th>br</th>\n",
              "      <th>km</th>\n",
              "      <th>municipio</th>\n",
              "      <th>causa_acidente</th>\n",
              "      <th>tipo_acidente</th>\n",
              "      <th>classificacao_acidente</th>\n",
              "      <th>condicao_metereologica</th>\n",
              "      <th>tipo_pista</th>\n",
              "      <th>tracado_via</th>\n",
              "      <th>tipo_veiculo</th>\n",
              "      <th>tipo_envolvido</th>\n",
              "      <th>estado_fisico</th>\n",
              "      <th>idade</th>\n",
              "      <th>sexo</th>\n",
              "      <th>ilesos</th>\n",
              "      <th>feridos_leves</th>\n",
              "      <th>feridos_graves</th>\n",
              "      <th>mortos</th>\n",
              "    </tr>\n",
              "  </thead>\n",
              "  <tbody>\n",
              "    <tr>\n",
              "      <th>0</th>\n",
              "      <td>8</td>\n",
              "      <td>1</td>\n",
              "      <td>2017-01-01</td>\n",
              "      <td>domingo</td>\n",
              "      <td>00:00:00</td>\n",
              "      <td>PR</td>\n",
              "      <td>376.0</td>\n",
              "      <td>112</td>\n",
              "      <td>PARANAVAI</td>\n",
              "      <td>Fenômenos da Natureza</td>\n",
              "      <td>Queda de ocupante de veículo</td>\n",
              "      <td>Com Vítimas Feridas</td>\n",
              "      <td>Chuva</td>\n",
              "      <td>Simples</td>\n",
              "      <td>Reta</td>\n",
              "      <td>Motocicleta</td>\n",
              "      <td>Condutor</td>\n",
              "      <td>Lesões Graves</td>\n",
              "      <td>19</td>\n",
              "      <td>Masculino</td>\n",
              "      <td>0</td>\n",
              "      <td>0</td>\n",
              "      <td>1</td>\n",
              "      <td>0</td>\n",
              "    </tr>\n",
              "    <tr>\n",
              "      <th>1</th>\n",
              "      <td>9</td>\n",
              "      <td>955</td>\n",
              "      <td>2017-01-01</td>\n",
              "      <td>domingo</td>\n",
              "      <td>00:01:00</td>\n",
              "      <td>SC</td>\n",
              "      <td>101.0</td>\n",
              "      <td>234</td>\n",
              "      <td>PALHOCA</td>\n",
              "      <td>Falta de Atenção à Condução</td>\n",
              "      <td>Colisão com objeto estático</td>\n",
              "      <td>Sem Vítimas</td>\n",
              "      <td>Chuva</td>\n",
              "      <td>Dupla</td>\n",
              "      <td>Curva</td>\n",
              "      <td>Automóvel</td>\n",
              "      <td>Condutor</td>\n",
              "      <td>Ileso</td>\n",
              "      <td>35</td>\n",
              "      <td>Masculino</td>\n",
              "      <td>1</td>\n",
              "      <td>0</td>\n",
              "      <td>0</td>\n",
              "      <td>0</td>\n",
              "    </tr>\n",
              "    <tr>\n",
              "      <th>2</th>\n",
              "      <td>11</td>\n",
              "      <td>3</td>\n",
              "      <td>2017-01-01</td>\n",
              "      <td>domingo</td>\n",
              "      <td>00:00:00</td>\n",
              "      <td>PR</td>\n",
              "      <td>153.0</td>\n",
              "      <td>56,9</td>\n",
              "      <td>SANTO ANTONIO DA PLATINA</td>\n",
              "      <td>Animais na Pista</td>\n",
              "      <td>Capotamento</td>\n",
              "      <td>Com Vítimas Feridas</td>\n",
              "      <td>Garoa/Chuvisco</td>\n",
              "      <td>Simples</td>\n",
              "      <td>Reta</td>\n",
              "      <td>Automóvel</td>\n",
              "      <td>Passageiro</td>\n",
              "      <td>Lesões Leves</td>\n",
              "      <td>27</td>\n",
              "      <td>Masculino</td>\n",
              "      <td>0</td>\n",
              "      <td>1</td>\n",
              "      <td>0</td>\n",
              "      <td>0</td>\n",
              "    </tr>\n",
              "    <tr>\n",
              "      <th>3</th>\n",
              "      <td>11</td>\n",
              "      <td>2</td>\n",
              "      <td>2017-01-01</td>\n",
              "      <td>domingo</td>\n",
              "      <td>00:00:00</td>\n",
              "      <td>PR</td>\n",
              "      <td>153.0</td>\n",
              "      <td>56,9</td>\n",
              "      <td>SANTO ANTONIO DA PLATINA</td>\n",
              "      <td>Animais na Pista</td>\n",
              "      <td>Capotamento</td>\n",
              "      <td>Com Vítimas Feridas</td>\n",
              "      <td>Garoa/Chuvisco</td>\n",
              "      <td>Simples</td>\n",
              "      <td>Reta</td>\n",
              "      <td>Automóvel</td>\n",
              "      <td>Condutor</td>\n",
              "      <td>Lesões Leves</td>\n",
              "      <td>27</td>\n",
              "      <td>Feminino</td>\n",
              "      <td>0</td>\n",
              "      <td>1</td>\n",
              "      <td>0</td>\n",
              "      <td>0</td>\n",
              "    </tr>\n",
              "    <tr>\n",
              "      <th>4</th>\n",
              "      <td>12</td>\n",
              "      <td>1499</td>\n",
              "      <td>2017-01-01</td>\n",
              "      <td>domingo</td>\n",
              "      <td>00:00:00</td>\n",
              "      <td>GO</td>\n",
              "      <td>153.0</td>\n",
              "      <td>435</td>\n",
              "      <td>ANAPOLIS</td>\n",
              "      <td>Avarias e/ou desgaste excessivo no pneu</td>\n",
              "      <td>Tombamento</td>\n",
              "      <td>Com Vítimas Feridas</td>\n",
              "      <td>Céu Claro</td>\n",
              "      <td>Dupla</td>\n",
              "      <td>Reta</td>\n",
              "      <td>Motocicleta</td>\n",
              "      <td>Condutor</td>\n",
              "      <td>Lesões Graves</td>\n",
              "      <td>24</td>\n",
              "      <td>Masculino</td>\n",
              "      <td>0</td>\n",
              "      <td>0</td>\n",
              "      <td>1</td>\n",
              "      <td>0</td>\n",
              "    </tr>\n",
              "  </tbody>\n",
              "</table>\n",
              "</div>"
            ],
            "text/plain": [
              "   id  pesid data_inversa  ... feridos_leves feridos_graves mortos\n",
              "0   8      1   2017-01-01  ...             0              1      0\n",
              "1   9    955   2017-01-01  ...             0              0      0\n",
              "2  11      3   2017-01-01  ...             1              0      0\n",
              "3  11      2   2017-01-01  ...             1              0      0\n",
              "4  12   1499   2017-01-01  ...             0              1      0\n",
              "\n",
              "[5 rows x 24 columns]"
            ]
          },
          "metadata": {
            "tags": []
          },
          "execution_count": 102
        }
      ]
    },
    {
      "cell_type": "markdown",
      "metadata": {
        "id": "Y89gJIv_UIi-"
      },
      "source": [
        "# **Etapa Exploração**"
      ]
    },
    {
      "cell_type": "code",
      "metadata": {
        "id": "xTF93621ULi7"
      },
      "source": [
        ""
      ],
      "execution_count": null,
      "outputs": []
    }
  ]
}