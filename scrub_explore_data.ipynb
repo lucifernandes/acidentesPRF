{
  "nbformat": 4,
  "nbformat_minor": 0,
  "metadata": {
    "colab": {
      "name": "scrub-explore-data",
      "provenance": [],
      "include_colab_link": true
    },
    "kernelspec": {
      "name": "python3",
      "display_name": "Python 3"
    }
  },
  "cells": [
    {
      "cell_type": "markdown",
      "metadata": {
        "id": "view-in-github",
        "colab_type": "text"
      },
      "source": [
        "<a href=\"https://colab.research.google.com/github/lucifernandes/acidentesPRF/blob/master/scrub_explore_data.ipynb\" target=\"_parent\"><img src=\"https://colab.research.google.com/assets/colab-badge.svg\" alt=\"Open In Colab\"/></a>"
      ]
    },
    {
      "cell_type": "markdown",
      "metadata": {
        "id": "2Xz3CqCeT834"
      },
      "source": [
        "#Dados abertos sobre Acidentes da Polícia Rodoviária Federal"
      ]
    },
    {
      "cell_type": "markdown",
      "metadata": {
        "id": "D5iYnM8bDjVY"
      },
      "source": [
        "Lendo as bases de dados"
      ]
    },
    {
      "cell_type": "code",
      "metadata": {
        "id": "AB_c-7GwtNEW"
      },
      "source": [
        "import pandas as pd\n",
        "\n",
        "url = 'https://media.githubusercontent.com/media/lucifernandes/acidentesPRF/master/Bases'\n",
        "bases = {'Ocorrencias': {'folder': 'Agrupados%20por%20ocorrencia', \n",
        "                         'files': ['datatran2007.csv', 'datatran2008.csv', 'datatran2009.csv', 'datatran2010.csv', 'datatran2011.csv', 'datatran2012.csv', 'datatran2013.csv', 'datatran2014.csv', 'datatran2015.csv', 'datatran2016_atual.csv', 'datatran2017.csv', 'datatran2018.csv', 'datatran2019.csv', 'datatran2020.csv']}, \n",
        "         'Pessoas': {'folder': 'Agrupados%20por%20pessoa', \n",
        "                     'files': ['acidentes2007.csv', 'acidentes2008.csv', 'acidentes2009.csv', 'acidentes2010.csv', 'acidentes2011.csv', 'acidentes2012.csv', 'acidentes2013.csv', 'acidentes2014.csv', 'acidentes2015.csv', 'acidentes2016_atual.csv', 'acidentes2017.csv', 'acidentes2018.csv', 'acidentes2019.csv', 'acidentes2020.csv']}, \n",
        "         'Acidentes': {'folder': 'Agrupados%20por%20pessoa%20-%20Todas%20as%20causas%20e%20tipos%20de%20acidentes%20(desde%202017)', \n",
        "                       'files': ['acidentes2017_todas_causas_tipos.csv', 'acidentes2018_todas_causas_tipos.csv', 'acidentes2019_todas_causas_tipos.csv', 'acidentes2020_todas_causas_tipos.csv']}\n",
        "         }"
      ],
      "execution_count": 2,
      "outputs": []
    },
    {
      "cell_type": "code",
      "metadata": {
        "id": "f3hDwhksvT59"
      },
      "source": [
        "# Mostra o link de todas as bases\n",
        "for base in bases.keys():\n",
        "  for arq in bases[base]['files']:\n",
        "    print(f'{url}/{bases[base][\"folder\"]}/{arq}?raw=true')"
      ],
      "execution_count": null,
      "outputs": []
    },
    {
      "cell_type": "code",
      "metadata": {
        "id": "OilcAEo9T7Y0"
      },
      "source": [
        "df = pd.read_csv(f'{url}/{bases[\"Ocorrencias\"][\"folder\"]}/{bases[\"Ocorrencias\"][\"files\"][0]}?raw=true', encoding='ISO-8859-1', sep=';')\n",
        "#df = pd.read_csv(f'{url}/{bases[\"Pessoas\"][\"folder\"]}/{bases[\"Pessoas\"][\"files\"][0]}?raw=true', encoding='ISO-8859-1', sep=',')\n",
        "#df = pd.read_csv(f'{url}/{bases[\"Acidentes\"][\"folder\"]}/{bases[\"Acidentes\"][\"files\"][0]}?raw=true', encoding='ISO-8859-1', sep=';')\n",
        "\n",
        "df.info()"
      ],
      "execution_count": null,
      "outputs": []
    },
    {
      "cell_type": "markdown",
      "metadata": {
        "id": "Fxa1J86ST0M6"
      },
      "source": [
        "# **Etapa Limpeza**"
      ]
    },
    {
      "cell_type": "markdown",
      "metadata": {
        "id": "hnR2OfkZDuW-"
      },
      "source": [
        "Para a etapa de limpeza, as bases de dados foram estudadas separadamente, como será mostrado a seguir:"
      ]
    },
    {
      "cell_type": "code",
      "metadata": {
        "id": "2P_dYZio8hgN"
      },
      "source": [
        "# LUCAS\n",
        "dfOcorrencias = pd.read_csv(f'{url}/{bases[\"Ocorrencias\"][\"folder\"]}/{bases[\"Ocorrencias\"][\"files\"][0]}?raw=true', encoding='ISO-8859-1', sep=';')\n",
        "dfPessoas = pd.read_csv(f'{url}/{bases[\"Pessoas\"][\"folder\"]}/{bases[\"Pessoas\"][\"files\"][0]}?raw=true', encoding='ISO-8859-1', sep=',')"
      ],
      "execution_count": null,
      "outputs": []
    },
    {
      "cell_type": "code",
      "metadata": {
        "id": "x8fjqvlsvdoN"
      },
      "source": [
        "# Informações\n",
        "print(f'OCORRÊNCIAS: {bases[\"Ocorrencias\"][\"files\"][0]}')\n",
        "print(f'Qtd de IDs: {len(dfOcorrencias.id)}')\n",
        "print(f'Qtd de IDs repetidos: {len(dfOcorrencias.id) - len(dfOcorrencias.id.unique())}')\n",
        "print(f'Qtd de BR igual a (null): {len(dfOcorrencias[dfOcorrencias.br == \"(null)\"])}')\n",
        "print(f'Qtd de UF igual a (null): {len(dfOcorrencias[dfOcorrencias.uf == \"(null)\"])}')\n",
        "print(f'Qtd de Classificação de Acidentes igual a (null): {len(dfOcorrencias[dfOcorrencias.classificacao_acidente == \"(null)\"])}')\n",
        "print(f'Qtd de Fase do Dia igual a (null): {len(dfOcorrencias[dfOcorrencias.fase_dia == \"(null)\"])}')\n",
        "\n",
        "print(f'PESSOAS: {bases[\"Pessoas\"][\"files\"][0]}')\n",
        "print(f'Qtd de IDs: {len(dfPessoas.id)}')\n",
        "print(f'Qtd de IDs repetidos: {len(dfPessoas.id) - len(dfPessoas.id.unique())}')\n",
        "print(f'Qtd de BR igual a (null): {len(dfPessoas[dfPessoas.br == \"(null)\"])}')\n",
        "print(f'Qtd de UF igual a (null): {len(dfPessoas[dfPessoas.uf == \"(null)\"])}')\n",
        "print(f'Qtd de Classificação de Acidentes igual a (null): {len(dfPessoas[dfPessoas.classificacao_acidente == \"(null)\"])}')\n",
        "print(f'Qtd de Fase do Dia igual a (null): {len(dfPessoas[dfPessoas.fase_dia == \"(null)\"])}')\n",
        "print(f'Qtd de ID do Veículo igual a (null): {len(dfPessoas[dfPessoas.id_veiculo == \"(null)\"])}')\n",
        "print(f'Qtd de Tipo do Veículo igual a (null): {len(dfPessoas[dfPessoas.tipo_veiculo == \"(null)\"])}')\n",
        "print(f'Qtd de Marca igual a (null): {len(dfPessoas[dfPessoas.marca == \"(null)\"])}')\n",
        "print(f'Qtd de Ano de Fabricação igual a (null): {len(dfPessoas[dfPessoas.ano_fabricacao_veiculo == \"(null)\"])}')\n",
        "print(f'Qtd de Idade igual a NA: {len(dfPessoas[dfPessoas.idade == \"NA\"])}')\n",
        "print(f'Qtd de Sexo igual a NA: {len(dfPessoas[dfPessoas.sexo == \"NA\"])}')\n",
        "print(f'Qtd de Nacionalidade igual a NA: {len(dfPessoas[dfPessoas.nacionalidade == \"NA\"])}')\n",
        "print(f'Qtd de Naturalidade igual a NA: {len(dfPessoas[dfPessoas.naturalidade == \"NA\"])}')"
      ],
      "execution_count": null,
      "outputs": []
    },
    {
      "cell_type": "code",
      "metadata": {
        "id": "d4eq7TflMR7W"
      },
      "source": [
        "#Angela\n",
        "\n",
        "#Obs: Algumas planilhas divergem na quantidade de atributos (ex: Pessoas 2007 e 2017)\n",
        "\n",
        "#print(len(bases[\"Pessoas\"][\"files\"]))\n",
        "\n",
        "dfPessoas = pd.read_csv(f'{url}/{bases[\"Pessoas\"][\"folder\"]}/{bases[\"Pessoas\"][\"files\"][10]}?raw=true', encoding='ISO-8859-1', sep=';')\n",
        "dfAcidenCausas = pd.read_csv(f'{url}/{bases[\"Acidentes\"][\"folder\"]}/{bases[\"Acidentes\"][\"files\"][0]}?raw=true', encoding='ISO-8859-1', sep=';')"
      ],
      "execution_count": null,
      "outputs": []
    },
    {
      "cell_type": "code",
      "metadata": {
        "id": "qFgLkr_hM346"
      },
      "source": [
        "dfAcidenCausas.info()\n",
        "dfPessoas.info()"
      ],
      "execution_count": null,
      "outputs": []
    },
    {
      "cell_type": "code",
      "metadata": {
        "id": "atsTliFeNXXq"
      },
      "source": [
        "len(dfAcidenCausas[dfAcidenCausas.duplicated(subset='pesid')])\n",
        "#len(dfPessoas[dfPessoas.duplicated(subset='id')])"
      ],
      "execution_count": null,
      "outputs": []
    },
    {
      "cell_type": "markdown",
      "metadata": {
        "id": "WYscZDiYCz-A"
      },
      "source": [
        "## Base 1: **Agrupados por ocorrência**"
      ]
    },
    {
      "cell_type": "code",
      "metadata": {
        "id": "kNCaTqw5y8Ot"
      },
      "source": [
        "# Observações para a reunião (Hugo)\n",
        "\n",
        "# Tranformação dos atributos categóricos para numéricos (One-hot ou colocar números)\n",
        "# Escolher atributos que podem gerar enviesamento(Naturalidade, Sexo) \n",
        "# Escolher atributos que serão estimados (Classificação e regressão)\n",
        "# Normalização/padronização dos atributos numéricos\n",
        "# Escolher estratégias para solução de dados faltantes (Ignorada, Não informada, (null), NULL, NaN)\n",
        "# Analisar possível problema de Id's repetidos\n",
        "\n",
        "# Base de Pessoas\n",
        "# pesid repetido\n",
        "#   Naturalidade = \"Não Informado\"\n",
        "#   Marca = (null)\n",
        "\n",
        "# Base de Ocorrencias \n",
        "# Id repetido\n",
        "#   classificacao_acidente = (null)\n",
        "#   condicao_metereologica = \"Ignorada\""
      ],
      "execution_count": null,
      "outputs": []
    },
    {
      "cell_type": "code",
      "metadata": {
        "id": "ZA_IeMdbC-Z_"
      },
      "source": [
        ""
      ],
      "execution_count": null,
      "outputs": []
    },
    {
      "cell_type": "markdown",
      "metadata": {
        "id": "Dei7imZ_C-un"
      },
      "source": [
        "## Base 2: **Agrupados por pessoa**"
      ]
    },
    {
      "cell_type": "markdown",
      "metadata": {
        "id": "ZZiJLtuAwl_U"
      },
      "source": [
        "# Limpeza na base de pessoas\n",
        "\n",
        "* Atributos para **MANTER**: **id**, **pesid**, **data_inversa**, **dia_semana**, **horario**, **uf**, **br**, **km**, **municipio**, **causa_acidente**, **tipo_acidente**, **classificação_acidente**, **condicao_metereologica**, **sentido_via**, **tracado_via**, **tipo_veiculo**, **tipo_envolvido**, **estado_fisico**, **idade**, **sexo**, **ilesos**, **feridos_leves**, **feridos_graves**, **mortos**, **latitude**, **longitude**.\n",
        "\n",
        "* Atributos para **REMOVER**: **fase_dia**, **sentido_via**, **uso_solo**, **id_veiculo**, **marca**, **ano_fabricacao_veiculo**, **regional**, **delegacia**, **uop**.\n",
        "\n",
        "\n"
      ]
    },
    {
      "cell_type": "code",
      "metadata": {
        "id": "HUhPW6IEDEKW"
      },
      "source": [
        "# IMPORTAÇÃO DAS BASES DE PESSOAS\n",
        "dfs = list()\n",
        "t = len(bases['Pessoas']['files'])\n",
        "for i in range(t-4, t):\n",
        "  dfs.append(pd.read_csv(f'{url}/{bases[\"Pessoas\"][\"folder\"]}/{bases[\"Pessoas\"][\"files\"][i]}?raw=true', encoding='ISO-8859-1', sep=';'))\n",
        "\n",
        "dfPessoas = pd.concat(dfs)"
      ],
      "execution_count": 24,
      "outputs": []
    },
    {
      "cell_type": "code",
      "metadata": {
        "id": "H9e4Ci1P4AWy",
        "outputId": "625155d3-9be6-49bf-9f58-b215ea1d276d",
        "colab": {
          "base_uri": "https://localhost:8080/",
          "height": 578
        }
      },
      "source": [
        "# REMOÇÃO DE ATRIBUTOS\n",
        "dfPessoas = dfPessoas.drop(columns=['fase_dia', 'sentido_via', 'uso_solo', 'id_veiculo', 'marca', 'ano_fabricacao_veiculo', 'regional', 'delegacia', 'uop'])\n",
        "dfPessoas.info() "
      ],
      "execution_count": 25,
      "outputs": [
        {
          "output_type": "stream",
          "text": [
            "<class 'pandas.core.frame.DataFrame'>\n",
            "Int64Index: 609882 entries, 0 to 78411\n",
            "Data columns (total 26 columns):\n",
            " #   Column                  Non-Null Count   Dtype  \n",
            "---  ------                  --------------   -----  \n",
            " 0   id                      609882 non-null  float64\n",
            " 1   pesid                   609878 non-null  float64\n",
            " 2   data_inversa            609882 non-null  object \n",
            " 3   dia_semana              609882 non-null  object \n",
            " 4   horario                 609882 non-null  object \n",
            " 5   uf                      609882 non-null  object \n",
            " 6   br                      608891 non-null  float64\n",
            " 7   km                      608891 non-null  object \n",
            " 8   municipio               609882 non-null  object \n",
            " 9   causa_acidente          609882 non-null  object \n",
            " 10  tipo_acidente           609882 non-null  object \n",
            " 11  classificacao_acidente  609882 non-null  object \n",
            " 12  condicao_metereologica  609882 non-null  object \n",
            " 13  tipo_pista              609882 non-null  object \n",
            " 14  tracado_via             609882 non-null  object \n",
            " 15  tipo_veiculo            609882 non-null  object \n",
            " 16  tipo_envolvido          609882 non-null  object \n",
            " 17  estado_fisico           609882 non-null  object \n",
            " 18  idade                   553522 non-null  float64\n",
            " 19  sexo                    609882 non-null  object \n",
            " 20  ilesos                  609882 non-null  int64  \n",
            " 21  feridos_leves           609882 non-null  int64  \n",
            " 22  feridos_graves          609882 non-null  int64  \n",
            " 23  mortos                  609882 non-null  int64  \n",
            " 24  latitude                609882 non-null  object \n",
            " 25  longitude               609882 non-null  object \n",
            "dtypes: float64(4), int64(4), object(18)\n",
            "memory usage: 125.6+ MB\n"
          ],
          "name": "stdout"
        }
      ]
    },
    {
      "cell_type": "code",
      "metadata": {
        "id": "a5NxV2mH5SL6",
        "outputId": "d48c29dc-a152-4079-c3d8-a6c378faaffb",
        "colab": {
          "base_uri": "https://localhost:8080/",
          "height": 459
        }
      },
      "source": [
        "# VERIFICAÇÃO DE NULOS\n",
        "def testa_valores_nulos(dataframe, atributo):\n",
        "  if sum(dataframe[atributo].isnull()) == 0:\n",
        "    print('\\033[94m', atributo, ' => OK (não tem valores nulos)')\n",
        "  else:\n",
        "    print('\\033[93m', atributo, ' => *** TEM VALORES NULOS')\n",
        "\n",
        "def testa_valores_nulos(dataframe, atributo):\n",
        "  if sum(dataframe[atributo] == '(null)') == 0:\n",
        "    print('\\033[94m', atributo, ' => OK (não tem valores \"(null)\")')\n",
        "  else:\n",
        "    print('\\033[93m', atributo, ' => *** TEM VALORES \"(null)\"')\n",
        "\n",
        "for attr in dfPessoas.columns:\n",
        "    testa_valores_nulos(dfPessoas, attr)"
      ],
      "execution_count": 27,
      "outputs": [
        {
          "output_type": "stream",
          "text": [
            "\u001b[94m id  => OK (não tem valores nulos)\n",
            "\u001b[93m pesid  => *** TEM VALORES NULOS\n",
            "\u001b[94m data_inversa  => OK (não tem valores nulos)\n",
            "\u001b[94m dia_semana  => OK (não tem valores nulos)\n",
            "\u001b[94m horario  => OK (não tem valores nulos)\n",
            "\u001b[94m uf  => OK (não tem valores nulos)\n",
            "\u001b[93m br  => *** TEM VALORES NULOS\n",
            "\u001b[93m km  => *** TEM VALORES NULOS\n",
            "\u001b[94m municipio  => OK (não tem valores nulos)\n",
            "\u001b[94m causa_acidente  => OK (não tem valores nulos)\n",
            "\u001b[94m tipo_acidente  => OK (não tem valores nulos)\n",
            "\u001b[94m classificacao_acidente  => OK (não tem valores nulos)\n",
            "\u001b[94m condicao_metereologica  => OK (não tem valores nulos)\n",
            "\u001b[94m tipo_pista  => OK (não tem valores nulos)\n",
            "\u001b[94m tracado_via  => OK (não tem valores nulos)\n",
            "\u001b[94m tipo_veiculo  => OK (não tem valores nulos)\n",
            "\u001b[94m tipo_envolvido  => OK (não tem valores nulos)\n",
            "\u001b[94m estado_fisico  => OK (não tem valores nulos)\n",
            "\u001b[93m idade  => *** TEM VALORES NULOS\n",
            "\u001b[94m sexo  => OK (não tem valores nulos)\n",
            "\u001b[94m ilesos  => OK (não tem valores nulos)\n",
            "\u001b[94m feridos_leves  => OK (não tem valores nulos)\n",
            "\u001b[94m feridos_graves  => OK (não tem valores nulos)\n",
            "\u001b[94m mortos  => OK (não tem valores nulos)\n",
            "\u001b[94m latitude  => OK (não tem valores nulos)\n",
            "\u001b[94m longitude  => OK (não tem valores nulos)\n"
          ],
          "name": "stdout"
        }
      ]
    },
    {
      "cell_type": "markdown",
      "metadata": {
        "id": "OsAvzITmDEeo"
      },
      "source": [
        "## Base 3: **Agrupados por pessoa - Todas as causas e tipos de acidentes (a partir de 2017)**"
      ]
    },
    {
      "cell_type": "code",
      "metadata": {
        "id": "LPvSYPdsDaDL"
      },
      "source": [
        ""
      ],
      "execution_count": null,
      "outputs": []
    },
    {
      "cell_type": "markdown",
      "metadata": {
        "id": "Y89gJIv_UIi-"
      },
      "source": [
        "# **Etapa Exploração**"
      ]
    },
    {
      "cell_type": "code",
      "metadata": {
        "id": "xTF93621ULi7"
      },
      "source": [
        ""
      ],
      "execution_count": null,
      "outputs": []
    }
  ]
}