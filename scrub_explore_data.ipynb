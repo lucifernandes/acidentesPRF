{
  "nbformat": 4,
  "nbformat_minor": 0,
  "metadata": {
    "colab": {
      "name": "scrub-explore-data",
      "provenance": [],
      "include_colab_link": true
    },
    "kernelspec": {
      "name": "python3",
      "display_name": "Python 3"
    }
  },
  "cells": [
    {
      "cell_type": "markdown",
      "metadata": {
        "id": "view-in-github",
        "colab_type": "text"
      },
      "source": [
        "<a href=\"https://colab.research.google.com/github/lucifernandes/acidentesPRF/blob/master/scrub_explore_data.ipynb\" target=\"_parent\"><img src=\"https://colab.research.google.com/assets/colab-badge.svg\" alt=\"Open In Colab\"/></a>"
      ]
    },
    {
      "cell_type": "markdown",
      "metadata": {
        "id": "2Xz3CqCeT834"
      },
      "source": [
        "# Dados abertos sobre Acidentes da Polícia Rodoviária Federal"
      ]
    },
    {
      "cell_type": "markdown",
      "metadata": {
        "id": "D5iYnM8bDjVY"
      },
      "source": [
        "## Lendo as bases de dados"
      ]
    },
    {
      "cell_type": "code",
      "metadata": {
        "id": "AB_c-7GwtNEW"
      },
      "source": [
        "import pandas as pd\n",
        "\n",
        "url = 'https://media.githubusercontent.com/media/lucifernandes/acidentesPRF/master/Bases'\n",
        "bases = {'Ocorrencias': {'folder': 'Agrupados%20por%20ocorrencia', \n",
        "                         'files': ['datatran2007.csv', 'datatran2008.csv', 'datatran2009.csv', 'datatran2010.csv', 'datatran2011.csv', 'datatran2012.csv', 'datatran2013.csv', 'datatran2014.csv', 'datatran2015.csv', 'datatran2016_atual.csv', 'datatran2017.csv', 'datatran2018.csv', 'datatran2019.csv', 'datatran2020.csv']}, \n",
        "         'Pessoas': {'folder': 'Agrupados%20por%20pessoa', \n",
        "                     'files': ['acidentes2007.csv', 'acidentes2008.csv', 'acidentes2009.csv', 'acidentes2010.csv', 'acidentes2011.csv', 'acidentes2012.csv', 'acidentes2013.csv', 'acidentes2014.csv', 'acidentes2015.csv', 'acidentes2016_atual.csv', 'acidentes2017.csv', 'acidentes2018.csv', 'acidentes2019.csv', 'acidentes2020.csv']}, \n",
        "         'Acidentes': {'folder': 'Agrupados%20por%20pessoa%20-%20Todas%20as%20causas%20e%20tipos%20de%20acidentes%20(desde%202017)', \n",
        "                       'files': ['acidentes2017_todas_causas_tipos.csv', 'acidentes2018_todas_causas_tipos.csv', 'acidentes2019_todas_causas_tipos.csv', 'acidentes2020_todas_causas_tipos.csv']}\n",
        "         }"
      ],
      "execution_count": null,
      "outputs": []
    },
    {
      "cell_type": "code",
      "metadata": {
        "id": "f3hDwhksvT59"
      },
      "source": [
        "# Mostra o link de todas as bases\n",
        "for base in bases.keys():\n",
        "  for arq in bases[base]['files']:\n",
        "    print(f'{url}/{bases[base][\"folder\"]}/{arq}?raw=true')"
      ],
      "execution_count": null,
      "outputs": []
    },
    {
      "cell_type": "markdown",
      "metadata": {
        "id": "Fxa1J86ST0M6"
      },
      "source": [
        "## **Etapa Limpeza**"
      ]
    },
    {
      "cell_type": "markdown",
      "metadata": {
        "id": "hnR2OfkZDuW-"
      },
      "source": [
        "Para a etapa de limpeza, as bases de dados foram estudadas separadamente, como será mostrado a seguir:"
      ]
    },
    {
      "cell_type": "markdown",
      "metadata": {
        "id": "WYscZDiYCz-A"
      },
      "source": [
        "### Base 1: **Agrupados por ocorrência**"
      ]
    },
    {
      "cell_type": "code",
      "metadata": {
        "id": "kNCaTqw5y8Ot"
      },
      "source": [
        "# Observações para a reunião (Hugo)\n",
        "\n",
        "# Tranformação dos atributos categóricos para numéricos (One-hot ou colocar números)\n",
        "# Escolher atributos que podem gerar enviesamento(Naturalidade, Sexo) \n",
        "# Escolher atributos que serão estimados (Classificação e regressão)\n",
        "# Normalização/padronização dos atributos numéricos\n",
        "# Escolher estratégias para solução de dados faltantes (Ignorada, Não informada, (null), NULL, NaN)\n",
        "# Analisar possível problema de Id's repetidos\n",
        "\n",
        "# Base de Pessoas\n",
        "# pesid repetido\n",
        "#   Naturalidade = \"Não Informado\"\n",
        "#   Marca = (null)\n",
        "\n",
        "# Base de Ocorrencias \n",
        "# Id repetido\n",
        "#   classificacao_acidente = (null)\n",
        "#   condicao_metereologica = \"Ignorada\""
      ],
      "execution_count": null,
      "outputs": []
    },
    {
      "cell_type": "code",
      "metadata": {
        "id": "ZA_IeMdbC-Z_"
      },
      "source": [
        ""
      ],
      "execution_count": null,
      "outputs": []
    },
    {
      "cell_type": "markdown",
      "metadata": {
        "id": "Dei7imZ_C-un"
      },
      "source": [
        "### Base 2: **Agrupados por pessoa**"
      ]
    },
    {
      "cell_type": "markdown",
      "metadata": {
        "id": "ZZiJLtuAwl_U"
      },
      "source": [
        "#### Limpeza na base de pessoas\n",
        "\n",
        "* Atributos para **MANTER**: **id**, **pesid**, **data_inversa**, **dia_semana**, **horario**, **uf**, **br**, **km**, **municipio**, **causa_acidente**, **tipo_acidente**, **classificação_acidente**, **condicao_metereologica**, **sentido_via**, **tracado_via**, **tipo_veiculo**, **tipo_envolvido**, **estado_fisico**, **idade**, **sexo**, **ilesos**, **feridos_leves**, **feridos_graves**, **mortos**.\n",
        "\n",
        "* Atributos para **REMOVER**: **fase_dia**, **sentido_via**, **uso_solo**, **id_veiculo**, **marca**, **ano_fabricacao_veiculo**, **latitude**, **longitude**, **regional**, **delegacia**, **uop**.\n",
        "\n",
        "\n"
      ]
    },
    {
      "cell_type": "code",
      "metadata": {
        "id": "HUhPW6IEDEKW",
        "outputId": "bde65a1d-b0e7-4f45-b082-31da2d1f459b",
        "colab": {
          "base_uri": "https://localhost:8080/",
          "height": 731
        }
      },
      "source": [
        "# IMPORTAÇÃO DAS 4 ÚLTIMAS BASES DE PESSOAS\n",
        "dfs = list()\n",
        "t = len(bases['Pessoas']['files'])\n",
        "for i in range(t-4, t):\n",
        "  dfs.append(pd.read_csv(f'{url}/{bases[\"Pessoas\"][\"folder\"]}/{bases[\"Pessoas\"][\"files\"][i]}?raw=true', encoding='ISO-8859-1', sep=';'))\n",
        "\n",
        "dfPessoas = pd.concat(dfs)\n",
        "dfPessoas.info()"
      ],
      "execution_count": 155,
      "outputs": [
        {
          "output_type": "stream",
          "text": [
            "<class 'pandas.core.frame.DataFrame'>\n",
            "Int64Index: 609882 entries, 0 to 78411\n",
            "Data columns (total 35 columns):\n",
            " #   Column                  Non-Null Count   Dtype  \n",
            "---  ------                  --------------   -----  \n",
            " 0   id                      609882 non-null  float64\n",
            " 1   pesid                   609878 non-null  float64\n",
            " 2   data_inversa            609882 non-null  object \n",
            " 3   dia_semana              609882 non-null  object \n",
            " 4   horario                 609882 non-null  object \n",
            " 5   uf                      609882 non-null  object \n",
            " 6   br                      608891 non-null  float64\n",
            " 7   km                      608891 non-null  object \n",
            " 8   municipio               609882 non-null  object \n",
            " 9   causa_acidente          609882 non-null  object \n",
            " 10  tipo_acidente           609882 non-null  object \n",
            " 11  classificacao_acidente  609882 non-null  object \n",
            " 12  fase_dia                609882 non-null  object \n",
            " 13  sentido_via             609882 non-null  object \n",
            " 14  condicao_metereologica  609882 non-null  object \n",
            " 15  tipo_pista              609882 non-null  object \n",
            " 16  tracado_via             609882 non-null  object \n",
            " 17  uso_solo                609882 non-null  object \n",
            " 18  id_veiculo              609878 non-null  float64\n",
            " 19  tipo_veiculo            609882 non-null  object \n",
            " 20  marca                   580333 non-null  object \n",
            " 21  ano_fabricacao_veiculo  575291 non-null  float64\n",
            " 22  tipo_envolvido          609882 non-null  object \n",
            " 23  estado_fisico           609882 non-null  object \n",
            " 24  idade                   553522 non-null  float64\n",
            " 25  sexo                    609882 non-null  object \n",
            " 26  ilesos                  609882 non-null  int64  \n",
            " 27  feridos_leves           609882 non-null  int64  \n",
            " 28  feridos_graves          609882 non-null  int64  \n",
            " 29  mortos                  609882 non-null  int64  \n",
            " 30  latitude                609882 non-null  object \n",
            " 31  longitude               609882 non-null  object \n",
            " 32  regional                609882 non-null  object \n",
            " 33  delegacia               609882 non-null  object \n",
            " 34  uop                     582049 non-null  object \n",
            "dtypes: float64(6), int64(4), object(25)\n",
            "memory usage: 167.5+ MB\n"
          ],
          "name": "stdout"
        }
      ]
    },
    {
      "cell_type": "code",
      "metadata": {
        "id": "H9e4Ci1P4AWy",
        "outputId": "3da5e6da-fa12-4470-e994-d959fc676e5a",
        "colab": {
          "base_uri": "https://localhost:8080/",
          "height": 34
        }
      },
      "source": [
        "# REMOÇÃO DE ATRIBUTOS\n",
        "dfPessoas = dfPessoas.drop(columns=['fase_dia', 'sentido_via', 'uso_solo', 'id_veiculo', 'marca', 'ano_fabricacao_veiculo', 'latitude', 'longitude', 'regional', 'delegacia', 'uop'])\n",
        "dfPessoas.shape"
      ],
      "execution_count": 148,
      "outputs": [
        {
          "output_type": "execute_result",
          "data": {
            "text/plain": [
              "(609882, 24)"
            ]
          },
          "metadata": {
            "tags": []
          },
          "execution_count": 148
        }
      ]
    },
    {
      "cell_type": "code",
      "metadata": {
        "id": "a5NxV2mH5SL6",
        "outputId": "725a9da1-af26-4ca6-a221-8783d7779aa3",
        "colab": {
          "base_uri": "https://localhost:8080/",
          "height": 921
        }
      },
      "source": [
        "# VERIFICAÇÃO DE NULOS\n",
        "def testa_valores_nulos(dataframe, atributo):\n",
        "  if sum(dataframe[atributo].isnull()) == 0:\n",
        "    print('\\033[94m', atributo, ' => OK (não tem valores nulos)')\n",
        "  else:\n",
        "    print('\\033[93m', atributo, ' => *** TEM VALORES NULOS')\n",
        "\n",
        "def testa_valores_null(dataframe, atributo):\n",
        "  if sum(dataframe[atributo] == '(null)') == 0:\n",
        "    print('\\033[92m', atributo, ' => OK (não tem valores \"(null)\")')\n",
        "  else:\n",
        "    print('\\033[91m', atributo, ' => *** TEM VALORES \"(null)\"')\n",
        "\n",
        "print('-'*30, 'VALORES NULOS', '-'*30)\n",
        "for attr in dfPessoas.columns:\n",
        "  testa_valores_nulos(dfPessoas, attr)\n",
        "\n",
        "print('\\033[0m', '-'*30, 'VALORES (NULL)', '-'*30)\n",
        "for attr in dfPessoas.columns:\n",
        "  testa_valores_null(dfPessoas, attr)"
      ],
      "execution_count": 149,
      "outputs": [
        {
          "output_type": "stream",
          "text": [
            "------------------------------ VALORES NULOS ------------------------------\n",
            "\u001b[94m id  => OK (não tem valores nulos)\n",
            "\u001b[93m pesid  => *** TEM VALORES NULOS\n",
            "\u001b[94m data_inversa  => OK (não tem valores nulos)\n",
            "\u001b[94m dia_semana  => OK (não tem valores nulos)\n",
            "\u001b[94m horario  => OK (não tem valores nulos)\n",
            "\u001b[94m uf  => OK (não tem valores nulos)\n",
            "\u001b[93m br  => *** TEM VALORES NULOS\n",
            "\u001b[93m km  => *** TEM VALORES NULOS\n",
            "\u001b[94m municipio  => OK (não tem valores nulos)\n",
            "\u001b[94m causa_acidente  => OK (não tem valores nulos)\n",
            "\u001b[94m tipo_acidente  => OK (não tem valores nulos)\n",
            "\u001b[94m classificacao_acidente  => OK (não tem valores nulos)\n",
            "\u001b[94m condicao_metereologica  => OK (não tem valores nulos)\n",
            "\u001b[94m tipo_pista  => OK (não tem valores nulos)\n",
            "\u001b[94m tracado_via  => OK (não tem valores nulos)\n",
            "\u001b[94m tipo_veiculo  => OK (não tem valores nulos)\n",
            "\u001b[94m tipo_envolvido  => OK (não tem valores nulos)\n",
            "\u001b[94m estado_fisico  => OK (não tem valores nulos)\n",
            "\u001b[93m idade  => *** TEM VALORES NULOS\n",
            "\u001b[94m sexo  => OK (não tem valores nulos)\n",
            "\u001b[94m ilesos  => OK (não tem valores nulos)\n",
            "\u001b[94m feridos_leves  => OK (não tem valores nulos)\n",
            "\u001b[94m feridos_graves  => OK (não tem valores nulos)\n",
            "\u001b[94m mortos  => OK (não tem valores nulos)\n",
            "\u001b[0m ------------------------------ VALORES (NULL) ------------------------------\n",
            "\u001b[92m id  => OK (não tem valores \"(null)\")\n",
            "\u001b[92m pesid  => OK (não tem valores \"(null)\")\n",
            "\u001b[92m data_inversa  => OK (não tem valores \"(null)\")\n",
            "\u001b[92m"
          ],
          "name": "stdout"
        },
        {
          "output_type": "stream",
          "text": [
            "/usr/local/lib/python3.6/dist-packages/pandas/core/ops/array_ops.py:253: FutureWarning: elementwise comparison failed; returning scalar instead, but in the future will perform elementwise comparison\n",
            "  res_values = method(rvalues)\n"
          ],
          "name": "stderr"
        },
        {
          "output_type": "stream",
          "text": [
            " dia_semana  => OK (não tem valores \"(null)\")\n",
            "\u001b[92m horario  => OK (não tem valores \"(null)\")\n",
            "\u001b[92m uf  => OK (não tem valores \"(null)\")\n",
            "\u001b[92m br  => OK (não tem valores \"(null)\")\n",
            "\u001b[92m km  => OK (não tem valores \"(null)\")\n",
            "\u001b[92m municipio  => OK (não tem valores \"(null)\")\n",
            "\u001b[92m causa_acidente  => OK (não tem valores \"(null)\")\n",
            "\u001b[92m tipo_acidente  => OK (não tem valores \"(null)\")\n",
            "\u001b[92m classificacao_acidente  => OK (não tem valores \"(null)\")\n",
            "\u001b[92m condicao_metereologica  => OK (não tem valores \"(null)\")\n",
            "\u001b[92m tipo_pista  => OK (não tem valores \"(null)\")\n",
            "\u001b[92m tracado_via  => OK (não tem valores \"(null)\")\n",
            "\u001b[92m tipo_veiculo  => OK (não tem valores \"(null)\")\n",
            "\u001b[92m tipo_envolvido  => OK (não tem valores \"(null)\")\n",
            "\u001b[92m estado_fisico  => OK (não tem valores \"(null)\")\n",
            "\u001b[92m idade  => OK (não tem valores \"(null)\")\n",
            "\u001b[92m sexo  => OK (não tem valores \"(null)\")\n",
            "\u001b[92m ilesos  => OK (não tem valores \"(null)\")\n",
            "\u001b[92m feridos_leves  => OK (não tem valores \"(null)\")\n",
            "\u001b[92m feridos_graves  => OK (não tem valores \"(null)\")\n",
            "\u001b[92m mortos  => OK (não tem valores \"(null)\")\n"
          ],
          "name": "stdout"
        }
      ]
    },
    {
      "cell_type": "code",
      "metadata": {
        "id": "A9nu9lnCLA7Z",
        "outputId": "657b0a1d-1994-477d-c60a-398bc8007663",
        "colab": {
          "base_uri": "https://localhost:8080/",
          "height": 510
        }
      },
      "source": [
        "# VERIFICAÇÃO DE TIPOS\n",
        "def testa_tipos(dataframe, atributo, tipo):\n",
        "  s = sum(dataframe[atributo].map(type) != tipo)\n",
        "  if s == 0: \n",
        "    print('\\033[92m', f'{atributo} => todos são {tipo}')\n",
        "  else: \n",
        "    print('\\033[91m', f'{atributo} => *** {s} ATRIBUTOS NÃO SÃO {tipo}')\n",
        "\n",
        "atributos_str = ['data_inversa', 'dia_semana', 'horario', 'uf', 'municipio', 'causa_acidente', 'tipo_acidente', 'classificacao_acidente', 'condicao_metereologica', 'tipo_pista', 'tracado_via', 'tipo_veiculo', 'tipo_envolvido', 'estado_fisico', 'sexo']\n",
        "atributos_int = ['id', 'pesid', 'br', 'idade', 'ilesos', 'feridos_leves', 'feridos_graves', 'mortos']\n",
        "atributos_float = ['km']\n",
        "\n",
        "print('\\033[0m', 'Atributos que devem ser STR')\n",
        "for attr in atributos_str:\n",
        "    testa_tipos(dfPessoas, attr, str)\n",
        "\n",
        "print('\\033[0m', 'Atributos que devem ser INT')\n",
        "for attr in atributos_int:\n",
        "    testa_tipos(dfPessoas, attr, int)\n",
        "\n",
        "print('\\033[0m', 'Atributos que devem ser FLOAT')\n",
        "for attr in atributos_float:\n",
        "    testa_tipos(dfPessoas, attr, float)\n",
        "\n",
        "print('\\033[0m', 'Quantidade de DATA INVERSA FORA DO PADRÃO AAAA-MM-DD =', sum(~dfPessoas['data_inversa'].str.match('[0-9]{4}-[0-9]{2}-[0-9]{2}')))\n",
        "print('\\033[0m', 'Quantidade de HORÁRIO FORA DO PADRÃO HH:MM:SS =', sum(~dfPessoas['horario'].str.match('[0-9]{2}:[0-9]{2}:[0-9]{2}')))"
      ],
      "execution_count": 150,
      "outputs": [
        {
          "output_type": "stream",
          "text": [
            "\u001b[0m Atributos que devem ser STR\n",
            "\u001b[92m data_inversa => todos são <class 'str'>\n",
            "\u001b[92m dia_semana => todos são <class 'str'>\n",
            "\u001b[92m horario => todos são <class 'str'>\n",
            "\u001b[92m uf => todos são <class 'str'>\n",
            "\u001b[92m municipio => todos são <class 'str'>\n",
            "\u001b[92m causa_acidente => todos são <class 'str'>\n",
            "\u001b[92m tipo_acidente => todos são <class 'str'>\n",
            "\u001b[92m classificacao_acidente => todos são <class 'str'>\n",
            "\u001b[92m condicao_metereologica => todos são <class 'str'>\n",
            "\u001b[92m tipo_pista => todos são <class 'str'>\n",
            "\u001b[92m tracado_via => todos são <class 'str'>\n",
            "\u001b[92m tipo_veiculo => todos são <class 'str'>\n",
            "\u001b[92m tipo_envolvido => todos são <class 'str'>\n",
            "\u001b[92m estado_fisico => todos são <class 'str'>\n",
            "\u001b[92m sexo => todos são <class 'str'>\n",
            "\u001b[0m Atributos que devem ser INT\n",
            "\u001b[91m id => *** 609882 ATRIBUTOS NÃO SÃO <class 'int'>\n",
            "\u001b[91m pesid => *** 609882 ATRIBUTOS NÃO SÃO <class 'int'>\n",
            "\u001b[91m br => *** 609882 ATRIBUTOS NÃO SÃO <class 'int'>\n",
            "\u001b[91m idade => *** 609882 ATRIBUTOS NÃO SÃO <class 'int'>\n",
            "\u001b[92m ilesos => todos são <class 'int'>\n",
            "\u001b[92m feridos_leves => todos são <class 'int'>\n",
            "\u001b[92m feridos_graves => todos são <class 'int'>\n",
            "\u001b[92m mortos => todos são <class 'int'>\n",
            "\u001b[0m Atributos que devem ser FLOAT\n",
            "\u001b[91m km => *** 608891 ATRIBUTOS NÃO SÃO <class 'float'>\n",
            "\u001b[0m Quantidade de DATA INVERSA FORA DO PADRÃO AAAA-MM-DD = 0\n",
            "\u001b[0m Quantidade de HORÁRIO FORA DO PADRÃO HH:MM:SS = 0\n"
          ],
          "name": "stdout"
        }
      ]
    },
    {
      "cell_type": "code",
      "metadata": {
        "id": "ZAf_GqaUF40A",
        "outputId": "aa123d2e-129a-45b7-dad4-f629fb8d30d0",
        "colab": {
          "base_uri": "https://localhost:8080/",
          "height": 34
        }
      },
      "source": [
        "# LIMPEZA\n",
        "## Remove regitros com atributos br e km NaN\n",
        "t = len(dfPessoas.id)\n",
        "dfPessoas = dfPessoas[dfPessoas['br'].notna()]\n",
        "dfPessoas = dfPessoas[dfPessoas['km'].notna()] # Nem precisava, onde br é NaN, km também é\n",
        "print(f'Removidos {t - len(dfPessoas.id)} registros.')\n",
        "\n",
        "## Pessoas com sexo = 'Ignorado' viraram sexo = 'Não Informado'\n",
        "dfPessoas.loc[dfPessoas['sexo'] == 'Ignorado', 'sexo'] = 'Não Informado'\n",
        "\n",
        "## Conversões\n",
        "dfPessoas['id'] = dfPessoas['id'].astype(int)\n",
        "\n",
        "qtd_pesid_nan = len(dfPessoas[dfPessoas['pesid'].isna()]['pesid'])\n",
        "dfPessoas.loc[dfPessoas['pesid'].isna(), 'pesid'] = [dfPessoas['pesid'].max() + 1 + i for i in range(qtd_pesid_nan)] # Substituindo valores NaN por PESIDs novos\n",
        "dfPessoas['pesid'] = dfPessoas['pesid'].astype(int)\n",
        "\n",
        "media_idade = dfPessoas.loc[dfPessoas['idade'] <= 110, 'idade'].mean()\n",
        "dfPessoas.loc[(dfPessoas['idade'].isna()) | (dfPessoas['idade'] > 110), 'idade'] = media_idade\n",
        "dfPessoas['idade'] = dfPessoas['idade'].astype(int)\n",
        "\n",
        "dfPessoas['data_inversa'] = pd.to_datetime(dfPessoas['data_inversa'])"
      ],
      "execution_count": 156,
      "outputs": [
        {
          "output_type": "stream",
          "text": [
            "Removidos 991 registros.\n"
          ],
          "name": "stdout"
        }
      ]
    },
    {
      "cell_type": "code",
      "metadata": {
        "id": "_ZjyTDAVpAAY",
        "outputId": "ab98a8b6-b684-4915-8d06-d653047b7752",
        "colab": {
          "base_uri": "https://localhost:8080/",
          "height": 1000
        }
      },
      "source": [
        "dfPessoas.info()\n",
        "dfPessoas.head()"
      ],
      "execution_count": 157,
      "outputs": [
        {
          "output_type": "stream",
          "text": [
            "<class 'pandas.core.frame.DataFrame'>\n",
            "Int64Index: 608891 entries, 0 to 78411\n",
            "Data columns (total 35 columns):\n",
            " #   Column                  Non-Null Count   Dtype         \n",
            "---  ------                  --------------   -----         \n",
            " 0   id                      608891 non-null  int64         \n",
            " 1   pesid                   608891 non-null  int64         \n",
            " 2   data_inversa            608891 non-null  datetime64[ns]\n",
            " 3   dia_semana              608891 non-null  object        \n",
            " 4   horario                 608891 non-null  object        \n",
            " 5   uf                      608891 non-null  object        \n",
            " 6   br                      608891 non-null  float64       \n",
            " 7   km                      608891 non-null  object        \n",
            " 8   municipio               608891 non-null  object        \n",
            " 9   causa_acidente          608891 non-null  object        \n",
            " 10  tipo_acidente           608891 non-null  object        \n",
            " 11  classificacao_acidente  608891 non-null  object        \n",
            " 12  fase_dia                608891 non-null  object        \n",
            " 13  sentido_via             608891 non-null  object        \n",
            " 14  condicao_metereologica  608891 non-null  object        \n",
            " 15  tipo_pista              608891 non-null  object        \n",
            " 16  tracado_via             608891 non-null  object        \n",
            " 17  uso_solo                608891 non-null  object        \n",
            " 18  id_veiculo              608887 non-null  float64       \n",
            " 19  tipo_veiculo            608891 non-null  object        \n",
            " 20  marca                   579387 non-null  object        \n",
            " 21  ano_fabricacao_veiculo  574356 non-null  float64       \n",
            " 22  tipo_envolvido          608891 non-null  object        \n",
            " 23  estado_fisico           608891 non-null  object        \n",
            " 24  idade                   608891 non-null  int64         \n",
            " 25  sexo                    608891 non-null  object        \n",
            " 26  ilesos                  608891 non-null  int64         \n",
            " 27  feridos_leves           608891 non-null  int64         \n",
            " 28  feridos_graves          608891 non-null  int64         \n",
            " 29  mortos                  608891 non-null  int64         \n",
            " 30  latitude                608891 non-null  object        \n",
            " 31  longitude               608891 non-null  object        \n",
            " 32  regional                608891 non-null  object        \n",
            " 33  delegacia               608891 non-null  object        \n",
            " 34  uop                     581163 non-null  object        \n",
            "dtypes: datetime64[ns](1), float64(3), int64(7), object(24)\n",
            "memory usage: 167.2+ MB\n"
          ],
          "name": "stdout"
        },
        {
          "output_type": "execute_result",
          "data": {
            "text/html": [
              "<div>\n",
              "<style scoped>\n",
              "    .dataframe tbody tr th:only-of-type {\n",
              "        vertical-align: middle;\n",
              "    }\n",
              "\n",
              "    .dataframe tbody tr th {\n",
              "        vertical-align: top;\n",
              "    }\n",
              "\n",
              "    .dataframe thead th {\n",
              "        text-align: right;\n",
              "    }\n",
              "</style>\n",
              "<table border=\"1\" class=\"dataframe\">\n",
              "  <thead>\n",
              "    <tr style=\"text-align: right;\">\n",
              "      <th></th>\n",
              "      <th>id</th>\n",
              "      <th>pesid</th>\n",
              "      <th>data_inversa</th>\n",
              "      <th>dia_semana</th>\n",
              "      <th>horario</th>\n",
              "      <th>uf</th>\n",
              "      <th>br</th>\n",
              "      <th>km</th>\n",
              "      <th>municipio</th>\n",
              "      <th>causa_acidente</th>\n",
              "      <th>tipo_acidente</th>\n",
              "      <th>classificacao_acidente</th>\n",
              "      <th>fase_dia</th>\n",
              "      <th>sentido_via</th>\n",
              "      <th>condicao_metereologica</th>\n",
              "      <th>tipo_pista</th>\n",
              "      <th>tracado_via</th>\n",
              "      <th>uso_solo</th>\n",
              "      <th>id_veiculo</th>\n",
              "      <th>tipo_veiculo</th>\n",
              "      <th>marca</th>\n",
              "      <th>ano_fabricacao_veiculo</th>\n",
              "      <th>tipo_envolvido</th>\n",
              "      <th>estado_fisico</th>\n",
              "      <th>idade</th>\n",
              "      <th>sexo</th>\n",
              "      <th>ilesos</th>\n",
              "      <th>feridos_leves</th>\n",
              "      <th>feridos_graves</th>\n",
              "      <th>mortos</th>\n",
              "      <th>latitude</th>\n",
              "      <th>longitude</th>\n",
              "      <th>regional</th>\n",
              "      <th>delegacia</th>\n",
              "      <th>uop</th>\n",
              "    </tr>\n",
              "  </thead>\n",
              "  <tbody>\n",
              "    <tr>\n",
              "      <th>0</th>\n",
              "      <td>8</td>\n",
              "      <td>1</td>\n",
              "      <td>2017-01-01</td>\n",
              "      <td>domingo</td>\n",
              "      <td>00:00:00</td>\n",
              "      <td>PR</td>\n",
              "      <td>376.0</td>\n",
              "      <td>112</td>\n",
              "      <td>PARANAVAI</td>\n",
              "      <td>Fenômenos da Natureza</td>\n",
              "      <td>Queda de ocupante de veículo</td>\n",
              "      <td>Com Vítimas Feridas</td>\n",
              "      <td>Plena Noite</td>\n",
              "      <td>Crescente</td>\n",
              "      <td>Chuva</td>\n",
              "      <td>Simples</td>\n",
              "      <td>Reta</td>\n",
              "      <td>Não</td>\n",
              "      <td>5.0</td>\n",
              "      <td>Motocicleta</td>\n",
              "      <td>HONDA/CG 150 TITAN ESD</td>\n",
              "      <td>2005.0</td>\n",
              "      <td>Condutor</td>\n",
              "      <td>Lesões Graves</td>\n",
              "      <td>19</td>\n",
              "      <td>Masculino</td>\n",
              "      <td>0</td>\n",
              "      <td>0</td>\n",
              "      <td>1</td>\n",
              "      <td>0</td>\n",
              "      <td>-23,09880731</td>\n",
              "      <td>-52,38789369</td>\n",
              "      <td>SR-PR</td>\n",
              "      <td>DEL7/7</td>\n",
              "      <td>UOP05/PR</td>\n",
              "    </tr>\n",
              "    <tr>\n",
              "      <th>1</th>\n",
              "      <td>9</td>\n",
              "      <td>955</td>\n",
              "      <td>2017-01-01</td>\n",
              "      <td>domingo</td>\n",
              "      <td>00:01:00</td>\n",
              "      <td>SC</td>\n",
              "      <td>101.0</td>\n",
              "      <td>234</td>\n",
              "      <td>PALHOCA</td>\n",
              "      <td>Falta de Atenção à Condução</td>\n",
              "      <td>Colisão com objeto estático</td>\n",
              "      <td>Sem Vítimas</td>\n",
              "      <td>Plena Noite</td>\n",
              "      <td>Crescente</td>\n",
              "      <td>Chuva</td>\n",
              "      <td>Dupla</td>\n",
              "      <td>Curva</td>\n",
              "      <td>Não</td>\n",
              "      <td>7.0</td>\n",
              "      <td>Automóvel</td>\n",
              "      <td>FIAT/PALIO WEEKEND EX</td>\n",
              "      <td>2003.0</td>\n",
              "      <td>Condutor</td>\n",
              "      <td>Ileso</td>\n",
              "      <td>35</td>\n",
              "      <td>Masculino</td>\n",
              "      <td>1</td>\n",
              "      <td>0</td>\n",
              "      <td>0</td>\n",
              "      <td>0</td>\n",
              "      <td>-27,8101</td>\n",
              "      <td>-48,6357</td>\n",
              "      <td>SR-SC</td>\n",
              "      <td>DEL8/1</td>\n",
              "      <td>UOP02/SC</td>\n",
              "    </tr>\n",
              "    <tr>\n",
              "      <th>2</th>\n",
              "      <td>11</td>\n",
              "      <td>3</td>\n",
              "      <td>2017-01-01</td>\n",
              "      <td>domingo</td>\n",
              "      <td>00:00:00</td>\n",
              "      <td>PR</td>\n",
              "      <td>153.0</td>\n",
              "      <td>56,9</td>\n",
              "      <td>SANTO ANTONIO DA PLATINA</td>\n",
              "      <td>Animais na Pista</td>\n",
              "      <td>Capotamento</td>\n",
              "      <td>Com Vítimas Feridas</td>\n",
              "      <td>Plena Noite</td>\n",
              "      <td>Decrescente</td>\n",
              "      <td>Garoa/Chuvisco</td>\n",
              "      <td>Simples</td>\n",
              "      <td>Reta</td>\n",
              "      <td>Não</td>\n",
              "      <td>6.0</td>\n",
              "      <td>Automóvel</td>\n",
              "      <td>VW/NOVO GOL 1.0</td>\n",
              "      <td>2013.0</td>\n",
              "      <td>Passageiro</td>\n",
              "      <td>Lesões Leves</td>\n",
              "      <td>27</td>\n",
              "      <td>Masculino</td>\n",
              "      <td>0</td>\n",
              "      <td>1</td>\n",
              "      <td>0</td>\n",
              "      <td>0</td>\n",
              "      <td>-23,36951985</td>\n",
              "      <td>309,93513107</td>\n",
              "      <td>SR-PR</td>\n",
              "      <td>DEL7/7</td>\n",
              "      <td>UOP07/PR</td>\n",
              "    </tr>\n",
              "    <tr>\n",
              "      <th>3</th>\n",
              "      <td>11</td>\n",
              "      <td>2</td>\n",
              "      <td>2017-01-01</td>\n",
              "      <td>domingo</td>\n",
              "      <td>00:00:00</td>\n",
              "      <td>PR</td>\n",
              "      <td>153.0</td>\n",
              "      <td>56,9</td>\n",
              "      <td>SANTO ANTONIO DA PLATINA</td>\n",
              "      <td>Animais na Pista</td>\n",
              "      <td>Capotamento</td>\n",
              "      <td>Com Vítimas Feridas</td>\n",
              "      <td>Plena Noite</td>\n",
              "      <td>Decrescente</td>\n",
              "      <td>Garoa/Chuvisco</td>\n",
              "      <td>Simples</td>\n",
              "      <td>Reta</td>\n",
              "      <td>Não</td>\n",
              "      <td>6.0</td>\n",
              "      <td>Automóvel</td>\n",
              "      <td>VW/NOVO GOL 1.0</td>\n",
              "      <td>2013.0</td>\n",
              "      <td>Condutor</td>\n",
              "      <td>Lesões Leves</td>\n",
              "      <td>27</td>\n",
              "      <td>Feminino</td>\n",
              "      <td>0</td>\n",
              "      <td>1</td>\n",
              "      <td>0</td>\n",
              "      <td>0</td>\n",
              "      <td>-23,36951985</td>\n",
              "      <td>309,93513107</td>\n",
              "      <td>SR-PR</td>\n",
              "      <td>DEL7/7</td>\n",
              "      <td>UOP07/PR</td>\n",
              "    </tr>\n",
              "    <tr>\n",
              "      <th>4</th>\n",
              "      <td>12</td>\n",
              "      <td>1499</td>\n",
              "      <td>2017-01-01</td>\n",
              "      <td>domingo</td>\n",
              "      <td>00:00:00</td>\n",
              "      <td>GO</td>\n",
              "      <td>153.0</td>\n",
              "      <td>435</td>\n",
              "      <td>ANAPOLIS</td>\n",
              "      <td>Avarias e/ou desgaste excessivo no pneu</td>\n",
              "      <td>Tombamento</td>\n",
              "      <td>Com Vítimas Feridas</td>\n",
              "      <td>Plena Noite</td>\n",
              "      <td>Decrescente</td>\n",
              "      <td>Céu Claro</td>\n",
              "      <td>Dupla</td>\n",
              "      <td>Reta</td>\n",
              "      <td>Sim</td>\n",
              "      <td>8.0</td>\n",
              "      <td>Motocicleta</td>\n",
              "      <td>KASINSKI/COMET 250</td>\n",
              "      <td>2011.0</td>\n",
              "      <td>Condutor</td>\n",
              "      <td>Lesões Graves</td>\n",
              "      <td>24</td>\n",
              "      <td>Masculino</td>\n",
              "      <td>0</td>\n",
              "      <td>0</td>\n",
              "      <td>1</td>\n",
              "      <td>0</td>\n",
              "      <td>-16,27473677</td>\n",
              "      <td>-48,96908998</td>\n",
              "      <td>SR-GO</td>\n",
              "      <td>DEL1/2</td>\n",
              "      <td>UOP01/GO</td>\n",
              "    </tr>\n",
              "  </tbody>\n",
              "</table>\n",
              "</div>"
            ],
            "text/plain": [
              "   id  pesid data_inversa dia_semana  ...     longitude regional  delegacia       uop\n",
              "0   8      1   2017-01-01    domingo  ...  -52,38789369    SR-PR     DEL7/7  UOP05/PR\n",
              "1   9    955   2017-01-01    domingo  ...      -48,6357    SR-SC     DEL8/1  UOP02/SC\n",
              "2  11      3   2017-01-01    domingo  ...  309,93513107    SR-PR     DEL7/7  UOP07/PR\n",
              "3  11      2   2017-01-01    domingo  ...  309,93513107    SR-PR     DEL7/7  UOP07/PR\n",
              "4  12   1499   2017-01-01    domingo  ...  -48,96908998    SR-GO     DEL1/2  UOP01/GO\n",
              "\n",
              "[5 rows x 35 columns]"
            ]
          },
          "metadata": {
            "tags": []
          },
          "execution_count": 157
        }
      ]
    },
    {
      "cell_type": "markdown",
      "metadata": {
        "id": "9eB0Sozo18Rl"
      },
      "source": [
        "#### Hipótestes exclusivas da Base de Pessoas\n",
        "\n",
        "1. Qual o tipo de veículo que mais se envolve em acidentes?\n",
        "2. Qual a chance de um passageiro sair ileso em um acidente?\n",
        "3. Qual a taxa de mortes para cada faixa de idade (Criança, Jovem, Adulto, Idoso)?\n",
        "4. Quem sofre mais lesões, homens ou mulheres?\n"
      ]
    },
    {
      "cell_type": "markdown",
      "metadata": {
        "id": "GkHG0qNRPCJd"
      },
      "source": [
        "##### 1. Qual o tipo de veículo que mais se envolve em acidentes?"
      ]
    },
    {
      "cell_type": "code",
      "metadata": {
        "id": "QtjUAE1I4Z1q",
        "outputId": "38a6316e-fdb8-4439-d3bb-e8aeba930fa6",
        "colab": {
          "base_uri": "https://localhost:8080/",
          "height": 476
        }
      },
      "source": [
        "dfPessoas.groupby('tipo_veiculo').count().id.sort_values(ascending=False)"
      ],
      "execution_count": 134,
      "outputs": [
        {
          "output_type": "execute_result",
          "data": {
            "text/plain": [
              "tipo_veiculo\n",
              "Automóvel            273152\n",
              "Motocicleta          110140\n",
              "Caminhonete           54741\n",
              "Caminhão-trator       49158\n",
              "Caminhão              44522\n",
              "Ônibus                23004\n",
              "Camioneta             15451\n",
              "Motoneta              12729\n",
              "Bicicleta              7458\n",
              "Utilitário             6753\n",
              "Micro-ônibus           5515\n",
              "Outros                 2528\n",
              "Ciclomotor             1712\n",
              "Semireboque            1069\n",
              "Carroça-charrete        319\n",
              "Trator de rodas         261\n",
              "Reboque                 156\n",
              "Não Informado            73\n",
              "Triciclo                 60\n",
              "Trem-bonde               28\n",
              "Carro de mão             21\n",
              "Trator misto             15\n",
              "Chassi-plataforma         9\n",
              "Trator de esteira         9\n",
              "Quadriciclo               8\n",
              "Name: id, dtype: int64"
            ]
          },
          "metadata": {
            "tags": []
          },
          "execution_count": 134
        }
      ]
    },
    {
      "cell_type": "markdown",
      "metadata": {
        "id": "pDL0yqzIPHIj"
      },
      "source": [
        "##### 2. Qual a chance de um passageiro sair ileso em um acidente?"
      ]
    },
    {
      "cell_type": "code",
      "metadata": {
        "id": "BemYskgT9-uS",
        "outputId": "3e6689f0-c81b-42c6-c8e2-8af87a95e30d",
        "colab": {
          "base_uri": "https://localhost:8080/",
          "height": 34
        }
      },
      "source": [
        "todos = dfPessoas.id.count()\n",
        "passageiros_ilesos = dfPessoas[(dfPessoas['tipo_envolvido'] == 'Passageiro') & (dfPessoas['estado_fisico'] == 'Ileso')].id.count()\n",
        "print(f'Um passageiro tem {passageiros_ilesos * 100 / todos:.2f} % de sair ileso em um acidente!')"
      ],
      "execution_count": 125,
      "outputs": [
        {
          "output_type": "stream",
          "text": [
            "Um passageiro tem 8.56 % de sair ileso em um acidente!\n"
          ],
          "name": "stdout"
        }
      ]
    },
    {
      "cell_type": "markdown",
      "metadata": {
        "id": "r7VK8YtWPLDF"
      },
      "source": [
        "##### 3. Qual a taxa de mortes para cada faixa de idade (Criança, Jovem, Adulto, Idoso)?"
      ]
    },
    {
      "cell_type": "code",
      "metadata": {
        "id": "DuFjF2nIGRWV",
        "outputId": "3c039c26-32dc-499f-c9fe-75d253192cb3",
        "colab": {
          "base_uri": "https://localhost:8080/",
          "height": 119
        }
      },
      "source": [
        "dfPessoasMortos = dfPessoas[dfPessoas['mortos'] == 1]\n",
        "todosMortos = dfPessoasMortos.id.count()\n",
        "dfPessoasMortos.groupby(pd.cut(dfPessoasMortos.idade, [0, 12, 24, 60, 110])).count().id.sort_values(ascending=False).apply(lambda x: f'{100 * x / todosMortos:.2f} %')"
      ],
      "execution_count": 142,
      "outputs": [
        {
          "output_type": "execute_result",
          "data": {
            "text/plain": [
              "idade\n",
              "(24, 60]     70.72 %\n",
              "(12, 24]     14.73 %\n",
              "(60, 110]    12.18 %\n",
              "(0, 12]       2.15 %\n",
              "Name: id, dtype: object"
            ]
          },
          "metadata": {
            "tags": []
          },
          "execution_count": 142
        }
      ]
    },
    {
      "cell_type": "markdown",
      "metadata": {
        "id": "PDwDTZnmPO1q"
      },
      "source": [
        "##### 4. Quem sofre mais lesões, homens ou mulheres?"
      ]
    },
    {
      "cell_type": "code",
      "metadata": {
        "id": "III5Jn0pLA6w",
        "outputId": "04a982e8-a95d-4691-9f06-2ee4f7b92db9",
        "colab": {
          "base_uri": "https://localhost:8080/",
          "height": 102
        }
      },
      "source": [
        "dfPessoas[dfPessoas['estado_fisico'].str.contains('Lesões')].groupby('sexo').count().id.sort_values(ascending=False)"
      ],
      "execution_count": 158,
      "outputs": [
        {
          "output_type": "execute_result",
          "data": {
            "text/plain": [
              "sexo\n",
              "Masculino        193569\n",
              "Feminino          83938\n",
              "Não Informado       413\n",
              "Name: id, dtype: int64"
            ]
          },
          "metadata": {
            "tags": []
          },
          "execution_count": 158
        }
      ]
    },
    {
      "cell_type": "markdown",
      "metadata": {
        "id": "8iBFQwXL18Lg"
      },
      "source": [
        ""
      ]
    },
    {
      "cell_type": "markdown",
      "metadata": {
        "id": "Y89gJIv_UIi-"
      },
      "source": [
        "# **Etapa Exploração**"
      ]
    },
    {
      "cell_type": "code",
      "metadata": {
        "id": "xTF93621ULi7"
      },
      "source": [
        ""
      ],
      "execution_count": null,
      "outputs": []
    }
  ]
}